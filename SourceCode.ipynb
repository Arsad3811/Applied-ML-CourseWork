{
  "cells": [
    {
      "cell_type": "markdown",
      "metadata": {
        "id": "view-in-github",
        "colab_type": "text"
      },
      "source": [
        "<a href=\"https://colab.research.google.com/github/Arsad3811/Applied-ML-CourseWork/blob/main/SourceCode.ipynb\" target=\"_parent\"><img src=\"https://colab.research.google.com/assets/colab-badge.svg\" alt=\"Open In Colab\"/></a>"
      ]
    },
    {
      "cell_type": "code",
      "execution_count": null,
      "id": "dfc659ff",
      "metadata": {
        "id": "dfc659ff"
      },
      "outputs": [],
      "source": [
        "import pandas as pd\n",
        "import numpy as np\n",
        "import io"
      ]
    },
    {
      "cell_type": "code",
      "source": [
        "from google.colab import files\n",
        "uploaded = files.upload()"
      ],
      "metadata": {
        "colab": {
          "resources": {
            "http://localhost:8080/nbextensions/google.colab/files.js": {
              "data": "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",
              "ok": true,
              "headers": [
                [
                  "content-type",
                  "application/javascript"
                ]
              ],
              "status": 200,
              "status_text": ""
            }
          },
          "base_uri": "https://localhost:8080/",
          "height": 73
        },
        "id": "Km_tBnFDRTqA",
        "outputId": "63e83756-0e01-45bf-8caf-6f7b16a4f540"
      },
      "id": "Km_tBnFDRTqA",
      "execution_count": null,
      "outputs": [
        {
          "output_type": "display_data",
          "data": {
            "text/plain": [
              "<IPython.core.display.HTML object>"
            ],
            "text/html": [
              "\n",
              "     <input type=\"file\" id=\"files-b524cafe-48b9-4089-83f7-5d8eee08dab2\" name=\"files[]\" multiple disabled\n",
              "        style=\"border:none\" />\n",
              "     <output id=\"result-b524cafe-48b9-4089-83f7-5d8eee08dab2\">\n",
              "      Upload widget is only available when the cell has been executed in the\n",
              "      current browser session. Please rerun this cell to enable.\n",
              "      </output>\n",
              "      <script src=\"/nbextensions/google.colab/files.js\"></script> "
            ]
          },
          "metadata": {}
        },
        {
          "output_type": "stream",
          "name": "stdout",
          "text": [
            "Saving Salam dataset.csv to Salam dataset (1).csv\n"
          ]
        }
      ]
    },
    {
      "cell_type": "code",
      "execution_count": null,
      "id": "a9f265db",
      "metadata": {
        "id": "a9f265db"
      },
      "outputs": [],
      "source": [
        "data = pd.read_csv(io.BytesIO(uploaded['Salam dataset.csv']))"
      ]
    },
    {
      "cell_type": "code",
      "execution_count": null,
      "id": "af746aeb",
      "metadata": {
        "colab": {
          "base_uri": "https://localhost:8080/",
          "height": 250
        },
        "id": "af746aeb",
        "outputId": "3b5616ee-8bba-4812-ddf3-6ea08ae56de7"
      },
      "outputs": [
        {
          "output_type": "execute_result",
          "data": {
            "text/plain": [
              "               review_id                                               text  \\\n",
              "0  product_review_000000               Works great!. A Decent Condenser Mic   \n",
              "1  product_review_000001  All these other posts about DRM this and DRM t...   \n",
              "2  product_review_000002  Great looking strings on my black classical gu...   \n",
              "3  product_review_000003  I know people rant and rave about this game li...   \n",
              "4  product_review_000004  these things are great! just takes some time t...   \n",
              "\n",
              "  verified  review_score     product_category  \n",
              "0    False           5.0  musical_instruments  \n",
              "1    False           1.0          video_games  \n",
              "2     True           5.0  musical_instruments  \n",
              "3     True           2.0          video_games  \n",
              "4     True           5.0          video_games  "
            ],
            "text/html": [
              "\n",
              "  <div id=\"df-741186ec-4ae8-4f56-8e0d-09ec49545769\">\n",
              "    <div class=\"colab-df-container\">\n",
              "      <div>\n",
              "<style scoped>\n",
              "    .dataframe tbody tr th:only-of-type {\n",
              "        vertical-align: middle;\n",
              "    }\n",
              "\n",
              "    .dataframe tbody tr th {\n",
              "        vertical-align: top;\n",
              "    }\n",
              "\n",
              "    .dataframe thead th {\n",
              "        text-align: right;\n",
              "    }\n",
              "</style>\n",
              "<table border=\"1\" class=\"dataframe\">\n",
              "  <thead>\n",
              "    <tr style=\"text-align: right;\">\n",
              "      <th></th>\n",
              "      <th>review_id</th>\n",
              "      <th>text</th>\n",
              "      <th>verified</th>\n",
              "      <th>review_score</th>\n",
              "      <th>product_category</th>\n",
              "    </tr>\n",
              "  </thead>\n",
              "  <tbody>\n",
              "    <tr>\n",
              "      <th>0</th>\n",
              "      <td>product_review_000000</td>\n",
              "      <td>Works great!. A Decent Condenser Mic</td>\n",
              "      <td>False</td>\n",
              "      <td>5.0</td>\n",
              "      <td>musical_instruments</td>\n",
              "    </tr>\n",
              "    <tr>\n",
              "      <th>1</th>\n",
              "      <td>product_review_000001</td>\n",
              "      <td>All these other posts about DRM this and DRM t...</td>\n",
              "      <td>False</td>\n",
              "      <td>1.0</td>\n",
              "      <td>video_games</td>\n",
              "    </tr>\n",
              "    <tr>\n",
              "      <th>2</th>\n",
              "      <td>product_review_000002</td>\n",
              "      <td>Great looking strings on my black classical gu...</td>\n",
              "      <td>True</td>\n",
              "      <td>5.0</td>\n",
              "      <td>musical_instruments</td>\n",
              "    </tr>\n",
              "    <tr>\n",
              "      <th>3</th>\n",
              "      <td>product_review_000003</td>\n",
              "      <td>I know people rant and rave about this game li...</td>\n",
              "      <td>True</td>\n",
              "      <td>2.0</td>\n",
              "      <td>video_games</td>\n",
              "    </tr>\n",
              "    <tr>\n",
              "      <th>4</th>\n",
              "      <td>product_review_000004</td>\n",
              "      <td>these things are great! just takes some time t...</td>\n",
              "      <td>True</td>\n",
              "      <td>5.0</td>\n",
              "      <td>video_games</td>\n",
              "    </tr>\n",
              "  </tbody>\n",
              "</table>\n",
              "</div>\n",
              "      <button class=\"colab-df-convert\" onclick=\"convertToInteractive('df-741186ec-4ae8-4f56-8e0d-09ec49545769')\"\n",
              "              title=\"Convert this dataframe to an interactive table.\"\n",
              "              style=\"display:none;\">\n",
              "        \n",
              "  <svg xmlns=\"http://www.w3.org/2000/svg\" height=\"24px\"viewBox=\"0 0 24 24\"\n",
              "       width=\"24px\">\n",
              "    <path d=\"M0 0h24v24H0V0z\" fill=\"none\"/>\n",
              "    <path d=\"M18.56 5.44l.94 2.06.94-2.06 2.06-.94-2.06-.94-.94-2.06-.94 2.06-2.06.94zm-11 1L8.5 8.5l.94-2.06 2.06-.94-2.06-.94L8.5 2.5l-.94 2.06-2.06.94zm10 10l.94 2.06.94-2.06 2.06-.94-2.06-.94-.94-2.06-.94 2.06-2.06.94z\"/><path d=\"M17.41 7.96l-1.37-1.37c-.4-.4-.92-.59-1.43-.59-.52 0-1.04.2-1.43.59L10.3 9.45l-7.72 7.72c-.78.78-.78 2.05 0 2.83L4 21.41c.39.39.9.59 1.41.59.51 0 1.02-.2 1.41-.59l7.78-7.78 2.81-2.81c.8-.78.8-2.07 0-2.86zM5.41 20L4 18.59l7.72-7.72 1.47 1.35L5.41 20z\"/>\n",
              "  </svg>\n",
              "      </button>\n",
              "      \n",
              "  <style>\n",
              "    .colab-df-container {\n",
              "      display:flex;\n",
              "      flex-wrap:wrap;\n",
              "      gap: 12px;\n",
              "    }\n",
              "\n",
              "    .colab-df-convert {\n",
              "      background-color: #E8F0FE;\n",
              "      border: none;\n",
              "      border-radius: 50%;\n",
              "      cursor: pointer;\n",
              "      display: none;\n",
              "      fill: #1967D2;\n",
              "      height: 32px;\n",
              "      padding: 0 0 0 0;\n",
              "      width: 32px;\n",
              "    }\n",
              "\n",
              "    .colab-df-convert:hover {\n",
              "      background-color: #E2EBFA;\n",
              "      box-shadow: 0px 1px 2px rgba(60, 64, 67, 0.3), 0px 1px 3px 1px rgba(60, 64, 67, 0.15);\n",
              "      fill: #174EA6;\n",
              "    }\n",
              "\n",
              "    [theme=dark] .colab-df-convert {\n",
              "      background-color: #3B4455;\n",
              "      fill: #D2E3FC;\n",
              "    }\n",
              "\n",
              "    [theme=dark] .colab-df-convert:hover {\n",
              "      background-color: #434B5C;\n",
              "      box-shadow: 0px 1px 3px 1px rgba(0, 0, 0, 0.15);\n",
              "      filter: drop-shadow(0px 1px 2px rgba(0, 0, 0, 0.3));\n",
              "      fill: #FFFFFF;\n",
              "    }\n",
              "  </style>\n",
              "\n",
              "      <script>\n",
              "        const buttonEl =\n",
              "          document.querySelector('#df-741186ec-4ae8-4f56-8e0d-09ec49545769 button.colab-df-convert');\n",
              "        buttonEl.style.display =\n",
              "          google.colab.kernel.accessAllowed ? 'block' : 'none';\n",
              "\n",
              "        async function convertToInteractive(key) {\n",
              "          const element = document.querySelector('#df-741186ec-4ae8-4f56-8e0d-09ec49545769');\n",
              "          const dataTable =\n",
              "            await google.colab.kernel.invokeFunction('convertToInteractive',\n",
              "                                                     [key], {});\n",
              "          if (!dataTable) return;\n",
              "\n",
              "          const docLinkHtml = 'Like what you see? Visit the ' +\n",
              "            '<a target=\"_blank\" href=https://colab.research.google.com/notebooks/data_table.ipynb>data table notebook</a>'\n",
              "            + ' to learn more about interactive tables.';\n",
              "          element.innerHTML = '';\n",
              "          dataTable['output_type'] = 'display_data';\n",
              "          await google.colab.output.renderOutput(dataTable, element);\n",
              "          const docLink = document.createElement('div');\n",
              "          docLink.innerHTML = docLinkHtml;\n",
              "          element.appendChild(docLink);\n",
              "        }\n",
              "      </script>\n",
              "    </div>\n",
              "  </div>\n",
              "  "
            ]
          },
          "metadata": {},
          "execution_count": 14
        }
      ],
      "source": [
        "data.head()"
      ]
    },
    {
      "cell_type": "code",
      "execution_count": null,
      "id": "53358a2b",
      "metadata": {
        "colab": {
          "base_uri": "https://localhost:8080/",
          "height": 81
        },
        "id": "53358a2b",
        "outputId": "2c281792-3130-4f79-dbb7-470eecb92552"
      },
      "outputs": [
        {
          "output_type": "execute_result",
          "data": {
            "text/plain": [
              "               review_id                                  text verified  \\\n",
              "0  product_review_000000  Works great!. A Decent Condenser Mic    False   \n",
              "\n",
              "   review_score     product_category  \n",
              "0           5.0  musical_instruments  "
            ],
            "text/html": [
              "\n",
              "  <div id=\"df-a4e98871-a9bb-49db-94bd-1724448374c1\">\n",
              "    <div class=\"colab-df-container\">\n",
              "      <div>\n",
              "<style scoped>\n",
              "    .dataframe tbody tr th:only-of-type {\n",
              "        vertical-align: middle;\n",
              "    }\n",
              "\n",
              "    .dataframe tbody tr th {\n",
              "        vertical-align: top;\n",
              "    }\n",
              "\n",
              "    .dataframe thead th {\n",
              "        text-align: right;\n",
              "    }\n",
              "</style>\n",
              "<table border=\"1\" class=\"dataframe\">\n",
              "  <thead>\n",
              "    <tr style=\"text-align: right;\">\n",
              "      <th></th>\n",
              "      <th>review_id</th>\n",
              "      <th>text</th>\n",
              "      <th>verified</th>\n",
              "      <th>review_score</th>\n",
              "      <th>product_category</th>\n",
              "    </tr>\n",
              "  </thead>\n",
              "  <tbody>\n",
              "    <tr>\n",
              "      <th>0</th>\n",
              "      <td>product_review_000000</td>\n",
              "      <td>Works great!. A Decent Condenser Mic</td>\n",
              "      <td>False</td>\n",
              "      <td>5.0</td>\n",
              "      <td>musical_instruments</td>\n",
              "    </tr>\n",
              "  </tbody>\n",
              "</table>\n",
              "</div>\n",
              "      <button class=\"colab-df-convert\" onclick=\"convertToInteractive('df-a4e98871-a9bb-49db-94bd-1724448374c1')\"\n",
              "              title=\"Convert this dataframe to an interactive table.\"\n",
              "              style=\"display:none;\">\n",
              "        \n",
              "  <svg xmlns=\"http://www.w3.org/2000/svg\" height=\"24px\"viewBox=\"0 0 24 24\"\n",
              "       width=\"24px\">\n",
              "    <path d=\"M0 0h24v24H0V0z\" fill=\"none\"/>\n",
              "    <path d=\"M18.56 5.44l.94 2.06.94-2.06 2.06-.94-2.06-.94-.94-2.06-.94 2.06-2.06.94zm-11 1L8.5 8.5l.94-2.06 2.06-.94-2.06-.94L8.5 2.5l-.94 2.06-2.06.94zm10 10l.94 2.06.94-2.06 2.06-.94-2.06-.94-.94-2.06-.94 2.06-2.06.94z\"/><path d=\"M17.41 7.96l-1.37-1.37c-.4-.4-.92-.59-1.43-.59-.52 0-1.04.2-1.43.59L10.3 9.45l-7.72 7.72c-.78.78-.78 2.05 0 2.83L4 21.41c.39.39.9.59 1.41.59.51 0 1.02-.2 1.41-.59l7.78-7.78 2.81-2.81c.8-.78.8-2.07 0-2.86zM5.41 20L4 18.59l7.72-7.72 1.47 1.35L5.41 20z\"/>\n",
              "  </svg>\n",
              "      </button>\n",
              "      \n",
              "  <style>\n",
              "    .colab-df-container {\n",
              "      display:flex;\n",
              "      flex-wrap:wrap;\n",
              "      gap: 12px;\n",
              "    }\n",
              "\n",
              "    .colab-df-convert {\n",
              "      background-color: #E8F0FE;\n",
              "      border: none;\n",
              "      border-radius: 50%;\n",
              "      cursor: pointer;\n",
              "      display: none;\n",
              "      fill: #1967D2;\n",
              "      height: 32px;\n",
              "      padding: 0 0 0 0;\n",
              "      width: 32px;\n",
              "    }\n",
              "\n",
              "    .colab-df-convert:hover {\n",
              "      background-color: #E2EBFA;\n",
              "      box-shadow: 0px 1px 2px rgba(60, 64, 67, 0.3), 0px 1px 3px 1px rgba(60, 64, 67, 0.15);\n",
              "      fill: #174EA6;\n",
              "    }\n",
              "\n",
              "    [theme=dark] .colab-df-convert {\n",
              "      background-color: #3B4455;\n",
              "      fill: #D2E3FC;\n",
              "    }\n",
              "\n",
              "    [theme=dark] .colab-df-convert:hover {\n",
              "      background-color: #434B5C;\n",
              "      box-shadow: 0px 1px 3px 1px rgba(0, 0, 0, 0.15);\n",
              "      filter: drop-shadow(0px 1px 2px rgba(0, 0, 0, 0.3));\n",
              "      fill: #FFFFFF;\n",
              "    }\n",
              "  </style>\n",
              "\n",
              "      <script>\n",
              "        const buttonEl =\n",
              "          document.querySelector('#df-a4e98871-a9bb-49db-94bd-1724448374c1 button.colab-df-convert');\n",
              "        buttonEl.style.display =\n",
              "          google.colab.kernel.accessAllowed ? 'block' : 'none';\n",
              "\n",
              "        async function convertToInteractive(key) {\n",
              "          const element = document.querySelector('#df-a4e98871-a9bb-49db-94bd-1724448374c1');\n",
              "          const dataTable =\n",
              "            await google.colab.kernel.invokeFunction('convertToInteractive',\n",
              "                                                     [key], {});\n",
              "          if (!dataTable) return;\n",
              "\n",
              "          const docLinkHtml = 'Like what you see? Visit the ' +\n",
              "            '<a target=\"_blank\" href=https://colab.research.google.com/notebooks/data_table.ipynb>data table notebook</a>'\n",
              "            + ' to learn more about interactive tables.';\n",
              "          element.innerHTML = '';\n",
              "          dataTable['output_type'] = 'display_data';\n",
              "          await google.colab.output.renderOutput(dataTable, element);\n",
              "          const docLink = document.createElement('div');\n",
              "          docLink.innerHTML = docLinkHtml;\n",
              "          element.appendChild(docLink);\n",
              "        }\n",
              "      </script>\n",
              "    </div>\n",
              "  </div>\n",
              "  "
            ]
          },
          "metadata": {},
          "execution_count": 15
        }
      ],
      "source": [
        "data.iloc[:1,:]"
      ]
    },
    {
      "cell_type": "code",
      "execution_count": null,
      "id": "f4195db8",
      "metadata": {
        "colab": {
          "base_uri": "https://localhost:8080/"
        },
        "id": "f4195db8",
        "outputId": "67fad4ac-2075-4009-f57d-89e48ddf0523"
      },
      "outputs": [
        {
          "output_type": "execute_result",
          "data": {
            "text/plain": [
              "review_id             0\n",
              "text                 13\n",
              "verified            114\n",
              "review_score          0\n",
              "product_category    906\n",
              "dtype: int64"
            ]
          },
          "metadata": {},
          "execution_count": 16
        }
      ],
      "source": [
        "data.isna().sum()"
      ]
    },
    {
      "cell_type": "code",
      "execution_count": null,
      "id": "2b331644",
      "metadata": {
        "colab": {
          "base_uri": "https://localhost:8080/"
        },
        "id": "2b331644",
        "outputId": "3c6505cf-bfae-4270-ce94-d4430b127f7a"
      },
      "outputs": [
        {
          "output_type": "stream",
          "name": "stdout",
          "text": [
            "<class 'pandas.core.frame.DataFrame'>\n",
            "RangeIndex: 32917 entries, 0 to 32916\n",
            "Data columns (total 5 columns):\n",
            " #   Column            Non-Null Count  Dtype  \n",
            "---  ------            --------------  -----  \n",
            " 0   review_id         32917 non-null  object \n",
            " 1   text              32904 non-null  object \n",
            " 2   verified          32803 non-null  object \n",
            " 3   review_score      32917 non-null  float64\n",
            " 4   product_category  32011 non-null  object \n",
            "dtypes: float64(1), object(4)\n",
            "memory usage: 1.3+ MB\n"
          ]
        }
      ],
      "source": [
        "data.info()"
      ]
    },
    {
      "cell_type": "code",
      "execution_count": null,
      "id": "753fa35b",
      "metadata": {
        "colab": {
          "base_uri": "https://localhost:8080/",
          "height": 572
        },
        "id": "753fa35b",
        "outputId": "7a6866e0-cd4c-4f24-e231-df49302db441"
      },
      "outputs": [
        {
          "output_type": "execute_result",
          "data": {
            "text/plain": [
              "                   review_id  \\\n",
              "68     product_review_000068   \n",
              "149    product_review_000149   \n",
              "160    product_review_000160   \n",
              "205    product_review_000205   \n",
              "209    product_review_000209   \n",
              "...                      ...   \n",
              "32697  product_review_032697   \n",
              "32700  product_review_032700   \n",
              "32713  product_review_032713   \n",
              "32717  product_review_032717   \n",
              "32749  product_review_032749   \n",
              "\n",
              "                                                    text verified  \\\n",
              "68                           This does not expand dong.     False   \n",
              "149    It frequently happens when a game or a movie c...    False   \n",
              "160    this is a great value. i contacted the company...     True   \n",
              "205    Very nice controller and very flexible. This i...    False   \n",
              "209    Bought this to use as a controller for my pc w...     True   \n",
              "...                                                  ...      ...   \n",
              "32697  Bought for one of my grandchildren who absolut...     True   \n",
              "32700  Much better than expected. In fact, it is quit...     True   \n",
              "32713  When I bought Tony Hawk 4, all I was expecting...    False   \n",
              "32717  I've used Ernie Ball strings for years, but Du...     True   \n",
              "32749  I bought this to keep my teenage sons out of t...     True   \n",
              "\n",
              "       review_score product_category  \n",
              "68              1.0              NaN  \n",
              "149             5.0              NaN  \n",
              "160             5.0              NaN  \n",
              "205             5.0              NaN  \n",
              "209             5.0              NaN  \n",
              "...             ...              ...  \n",
              "32697           5.0              NaN  \n",
              "32700           4.0              NaN  \n",
              "32713           5.0              NaN  \n",
              "32717           5.0              NaN  \n",
              "32749           5.0              NaN  \n",
              "\n",
              "[906 rows x 5 columns]"
            ],
            "text/html": [
              "\n",
              "  <div id=\"df-25cd8107-ca75-4e15-83c3-c7a88fa98f14\">\n",
              "    <div class=\"colab-df-container\">\n",
              "      <div>\n",
              "<style scoped>\n",
              "    .dataframe tbody tr th:only-of-type {\n",
              "        vertical-align: middle;\n",
              "    }\n",
              "\n",
              "    .dataframe tbody tr th {\n",
              "        vertical-align: top;\n",
              "    }\n",
              "\n",
              "    .dataframe thead th {\n",
              "        text-align: right;\n",
              "    }\n",
              "</style>\n",
              "<table border=\"1\" class=\"dataframe\">\n",
              "  <thead>\n",
              "    <tr style=\"text-align: right;\">\n",
              "      <th></th>\n",
              "      <th>review_id</th>\n",
              "      <th>text</th>\n",
              "      <th>verified</th>\n",
              "      <th>review_score</th>\n",
              "      <th>product_category</th>\n",
              "    </tr>\n",
              "  </thead>\n",
              "  <tbody>\n",
              "    <tr>\n",
              "      <th>68</th>\n",
              "      <td>product_review_000068</td>\n",
              "      <td>This does not expand dong.</td>\n",
              "      <td>False</td>\n",
              "      <td>1.0</td>\n",
              "      <td>NaN</td>\n",
              "    </tr>\n",
              "    <tr>\n",
              "      <th>149</th>\n",
              "      <td>product_review_000149</td>\n",
              "      <td>It frequently happens when a game or a movie c...</td>\n",
              "      <td>False</td>\n",
              "      <td>5.0</td>\n",
              "      <td>NaN</td>\n",
              "    </tr>\n",
              "    <tr>\n",
              "      <th>160</th>\n",
              "      <td>product_review_000160</td>\n",
              "      <td>this is a great value. i contacted the company...</td>\n",
              "      <td>True</td>\n",
              "      <td>5.0</td>\n",
              "      <td>NaN</td>\n",
              "    </tr>\n",
              "    <tr>\n",
              "      <th>205</th>\n",
              "      <td>product_review_000205</td>\n",
              "      <td>Very nice controller and very flexible. This i...</td>\n",
              "      <td>False</td>\n",
              "      <td>5.0</td>\n",
              "      <td>NaN</td>\n",
              "    </tr>\n",
              "    <tr>\n",
              "      <th>209</th>\n",
              "      <td>product_review_000209</td>\n",
              "      <td>Bought this to use as a controller for my pc w...</td>\n",
              "      <td>True</td>\n",
              "      <td>5.0</td>\n",
              "      <td>NaN</td>\n",
              "    </tr>\n",
              "    <tr>\n",
              "      <th>...</th>\n",
              "      <td>...</td>\n",
              "      <td>...</td>\n",
              "      <td>...</td>\n",
              "      <td>...</td>\n",
              "      <td>...</td>\n",
              "    </tr>\n",
              "    <tr>\n",
              "      <th>32697</th>\n",
              "      <td>product_review_032697</td>\n",
              "      <td>Bought for one of my grandchildren who absolut...</td>\n",
              "      <td>True</td>\n",
              "      <td>5.0</td>\n",
              "      <td>NaN</td>\n",
              "    </tr>\n",
              "    <tr>\n",
              "      <th>32700</th>\n",
              "      <td>product_review_032700</td>\n",
              "      <td>Much better than expected. In fact, it is quit...</td>\n",
              "      <td>True</td>\n",
              "      <td>4.0</td>\n",
              "      <td>NaN</td>\n",
              "    </tr>\n",
              "    <tr>\n",
              "      <th>32713</th>\n",
              "      <td>product_review_032713</td>\n",
              "      <td>When I bought Tony Hawk 4, all I was expecting...</td>\n",
              "      <td>False</td>\n",
              "      <td>5.0</td>\n",
              "      <td>NaN</td>\n",
              "    </tr>\n",
              "    <tr>\n",
              "      <th>32717</th>\n",
              "      <td>product_review_032717</td>\n",
              "      <td>I've used Ernie Ball strings for years, but Du...</td>\n",
              "      <td>True</td>\n",
              "      <td>5.0</td>\n",
              "      <td>NaN</td>\n",
              "    </tr>\n",
              "    <tr>\n",
              "      <th>32749</th>\n",
              "      <td>product_review_032749</td>\n",
              "      <td>I bought this to keep my teenage sons out of t...</td>\n",
              "      <td>True</td>\n",
              "      <td>5.0</td>\n",
              "      <td>NaN</td>\n",
              "    </tr>\n",
              "  </tbody>\n",
              "</table>\n",
              "<p>906 rows × 5 columns</p>\n",
              "</div>\n",
              "      <button class=\"colab-df-convert\" onclick=\"convertToInteractive('df-25cd8107-ca75-4e15-83c3-c7a88fa98f14')\"\n",
              "              title=\"Convert this dataframe to an interactive table.\"\n",
              "              style=\"display:none;\">\n",
              "        \n",
              "  <svg xmlns=\"http://www.w3.org/2000/svg\" height=\"24px\"viewBox=\"0 0 24 24\"\n",
              "       width=\"24px\">\n",
              "    <path d=\"M0 0h24v24H0V0z\" fill=\"none\"/>\n",
              "    <path d=\"M18.56 5.44l.94 2.06.94-2.06 2.06-.94-2.06-.94-.94-2.06-.94 2.06-2.06.94zm-11 1L8.5 8.5l.94-2.06 2.06-.94-2.06-.94L8.5 2.5l-.94 2.06-2.06.94zm10 10l.94 2.06.94-2.06 2.06-.94-2.06-.94-.94-2.06-.94 2.06-2.06.94z\"/><path d=\"M17.41 7.96l-1.37-1.37c-.4-.4-.92-.59-1.43-.59-.52 0-1.04.2-1.43.59L10.3 9.45l-7.72 7.72c-.78.78-.78 2.05 0 2.83L4 21.41c.39.39.9.59 1.41.59.51 0 1.02-.2 1.41-.59l7.78-7.78 2.81-2.81c.8-.78.8-2.07 0-2.86zM5.41 20L4 18.59l7.72-7.72 1.47 1.35L5.41 20z\"/>\n",
              "  </svg>\n",
              "      </button>\n",
              "      \n",
              "  <style>\n",
              "    .colab-df-container {\n",
              "      display:flex;\n",
              "      flex-wrap:wrap;\n",
              "      gap: 12px;\n",
              "    }\n",
              "\n",
              "    .colab-df-convert {\n",
              "      background-color: #E8F0FE;\n",
              "      border: none;\n",
              "      border-radius: 50%;\n",
              "      cursor: pointer;\n",
              "      display: none;\n",
              "      fill: #1967D2;\n",
              "      height: 32px;\n",
              "      padding: 0 0 0 0;\n",
              "      width: 32px;\n",
              "    }\n",
              "\n",
              "    .colab-df-convert:hover {\n",
              "      background-color: #E2EBFA;\n",
              "      box-shadow: 0px 1px 2px rgba(60, 64, 67, 0.3), 0px 1px 3px 1px rgba(60, 64, 67, 0.15);\n",
              "      fill: #174EA6;\n",
              "    }\n",
              "\n",
              "    [theme=dark] .colab-df-convert {\n",
              "      background-color: #3B4455;\n",
              "      fill: #D2E3FC;\n",
              "    }\n",
              "\n",
              "    [theme=dark] .colab-df-convert:hover {\n",
              "      background-color: #434B5C;\n",
              "      box-shadow: 0px 1px 3px 1px rgba(0, 0, 0, 0.15);\n",
              "      filter: drop-shadow(0px 1px 2px rgba(0, 0, 0, 0.3));\n",
              "      fill: #FFFFFF;\n",
              "    }\n",
              "  </style>\n",
              "\n",
              "      <script>\n",
              "        const buttonEl =\n",
              "          document.querySelector('#df-25cd8107-ca75-4e15-83c3-c7a88fa98f14 button.colab-df-convert');\n",
              "        buttonEl.style.display =\n",
              "          google.colab.kernel.accessAllowed ? 'block' : 'none';\n",
              "\n",
              "        async function convertToInteractive(key) {\n",
              "          const element = document.querySelector('#df-25cd8107-ca75-4e15-83c3-c7a88fa98f14');\n",
              "          const dataTable =\n",
              "            await google.colab.kernel.invokeFunction('convertToInteractive',\n",
              "                                                     [key], {});\n",
              "          if (!dataTable) return;\n",
              "\n",
              "          const docLinkHtml = 'Like what you see? Visit the ' +\n",
              "            '<a target=\"_blank\" href=https://colab.research.google.com/notebooks/data_table.ipynb>data table notebook</a>'\n",
              "            + ' to learn more about interactive tables.';\n",
              "          element.innerHTML = '';\n",
              "          dataTable['output_type'] = 'display_data';\n",
              "          await google.colab.output.renderOutput(dataTable, element);\n",
              "          const docLink = document.createElement('div');\n",
              "          docLink.innerHTML = docLinkHtml;\n",
              "          element.appendChild(docLink);\n",
              "        }\n",
              "      </script>\n",
              "    </div>\n",
              "  </div>\n",
              "  "
            ]
          },
          "metadata": {},
          "execution_count": 18
        }
      ],
      "source": [
        "data[data.product_category.isnull()]"
      ]
    },
    {
      "cell_type": "code",
      "execution_count": null,
      "id": "7d7e4e59",
      "metadata": {
        "colab": {
          "base_uri": "https://localhost:8080/",
          "height": 457
        },
        "id": "7d7e4e59",
        "outputId": "dca29bd2-b89d-4c35-cff8-554048fa47e7"
      },
      "outputs": [
        {
          "output_type": "execute_result",
          "data": {
            "text/plain": [
              "                   review_id text verified  review_score     product_category\n",
              "78     product_review_000078  NaN     True           5.0          video_games\n",
              "1240   product_review_001240  NaN     True           3.0          video_games\n",
              "5149   product_review_005149  NaN     True           3.0          video_games\n",
              "8491   product_review_008491  NaN     True           2.0          video_games\n",
              "9217   product_review_009217  NaN     True           5.0          video_games\n",
              "9717   product_review_009717  NaN    False           5.0          video_games\n",
              "10555  product_review_010555  NaN     True           5.0          video_games\n",
              "10682  product_review_010682  NaN     True           2.0          video_games\n",
              "16939  product_review_016939  NaN     True           4.0          video_games\n",
              "19792  product_review_019792  NaN     True           5.0          video_games\n",
              "27519  product_review_027519  NaN     True           5.0  musical_instruments\n",
              "30852  product_review_030852  NaN     True           5.0          video_games\n",
              "32071  product_review_032071  NaN     True           5.0          video_games"
            ],
            "text/html": [
              "\n",
              "  <div id=\"df-1ab236e8-e4d6-47da-89de-1320810636f3\">\n",
              "    <div class=\"colab-df-container\">\n",
              "      <div>\n",
              "<style scoped>\n",
              "    .dataframe tbody tr th:only-of-type {\n",
              "        vertical-align: middle;\n",
              "    }\n",
              "\n",
              "    .dataframe tbody tr th {\n",
              "        vertical-align: top;\n",
              "    }\n",
              "\n",
              "    .dataframe thead th {\n",
              "        text-align: right;\n",
              "    }\n",
              "</style>\n",
              "<table border=\"1\" class=\"dataframe\">\n",
              "  <thead>\n",
              "    <tr style=\"text-align: right;\">\n",
              "      <th></th>\n",
              "      <th>review_id</th>\n",
              "      <th>text</th>\n",
              "      <th>verified</th>\n",
              "      <th>review_score</th>\n",
              "      <th>product_category</th>\n",
              "    </tr>\n",
              "  </thead>\n",
              "  <tbody>\n",
              "    <tr>\n",
              "      <th>78</th>\n",
              "      <td>product_review_000078</td>\n",
              "      <td>NaN</td>\n",
              "      <td>True</td>\n",
              "      <td>5.0</td>\n",
              "      <td>video_games</td>\n",
              "    </tr>\n",
              "    <tr>\n",
              "      <th>1240</th>\n",
              "      <td>product_review_001240</td>\n",
              "      <td>NaN</td>\n",
              "      <td>True</td>\n",
              "      <td>3.0</td>\n",
              "      <td>video_games</td>\n",
              "    </tr>\n",
              "    <tr>\n",
              "      <th>5149</th>\n",
              "      <td>product_review_005149</td>\n",
              "      <td>NaN</td>\n",
              "      <td>True</td>\n",
              "      <td>3.0</td>\n",
              "      <td>video_games</td>\n",
              "    </tr>\n",
              "    <tr>\n",
              "      <th>8491</th>\n",
              "      <td>product_review_008491</td>\n",
              "      <td>NaN</td>\n",
              "      <td>True</td>\n",
              "      <td>2.0</td>\n",
              "      <td>video_games</td>\n",
              "    </tr>\n",
              "    <tr>\n",
              "      <th>9217</th>\n",
              "      <td>product_review_009217</td>\n",
              "      <td>NaN</td>\n",
              "      <td>True</td>\n",
              "      <td>5.0</td>\n",
              "      <td>video_games</td>\n",
              "    </tr>\n",
              "    <tr>\n",
              "      <th>9717</th>\n",
              "      <td>product_review_009717</td>\n",
              "      <td>NaN</td>\n",
              "      <td>False</td>\n",
              "      <td>5.0</td>\n",
              "      <td>video_games</td>\n",
              "    </tr>\n",
              "    <tr>\n",
              "      <th>10555</th>\n",
              "      <td>product_review_010555</td>\n",
              "      <td>NaN</td>\n",
              "      <td>True</td>\n",
              "      <td>5.0</td>\n",
              "      <td>video_games</td>\n",
              "    </tr>\n",
              "    <tr>\n",
              "      <th>10682</th>\n",
              "      <td>product_review_010682</td>\n",
              "      <td>NaN</td>\n",
              "      <td>True</td>\n",
              "      <td>2.0</td>\n",
              "      <td>video_games</td>\n",
              "    </tr>\n",
              "    <tr>\n",
              "      <th>16939</th>\n",
              "      <td>product_review_016939</td>\n",
              "      <td>NaN</td>\n",
              "      <td>True</td>\n",
              "      <td>4.0</td>\n",
              "      <td>video_games</td>\n",
              "    </tr>\n",
              "    <tr>\n",
              "      <th>19792</th>\n",
              "      <td>product_review_019792</td>\n",
              "      <td>NaN</td>\n",
              "      <td>True</td>\n",
              "      <td>5.0</td>\n",
              "      <td>video_games</td>\n",
              "    </tr>\n",
              "    <tr>\n",
              "      <th>27519</th>\n",
              "      <td>product_review_027519</td>\n",
              "      <td>NaN</td>\n",
              "      <td>True</td>\n",
              "      <td>5.0</td>\n",
              "      <td>musical_instruments</td>\n",
              "    </tr>\n",
              "    <tr>\n",
              "      <th>30852</th>\n",
              "      <td>product_review_030852</td>\n",
              "      <td>NaN</td>\n",
              "      <td>True</td>\n",
              "      <td>5.0</td>\n",
              "      <td>video_games</td>\n",
              "    </tr>\n",
              "    <tr>\n",
              "      <th>32071</th>\n",
              "      <td>product_review_032071</td>\n",
              "      <td>NaN</td>\n",
              "      <td>True</td>\n",
              "      <td>5.0</td>\n",
              "      <td>video_games</td>\n",
              "    </tr>\n",
              "  </tbody>\n",
              "</table>\n",
              "</div>\n",
              "      <button class=\"colab-df-convert\" onclick=\"convertToInteractive('df-1ab236e8-e4d6-47da-89de-1320810636f3')\"\n",
              "              title=\"Convert this dataframe to an interactive table.\"\n",
              "              style=\"display:none;\">\n",
              "        \n",
              "  <svg xmlns=\"http://www.w3.org/2000/svg\" height=\"24px\"viewBox=\"0 0 24 24\"\n",
              "       width=\"24px\">\n",
              "    <path d=\"M0 0h24v24H0V0z\" fill=\"none\"/>\n",
              "    <path d=\"M18.56 5.44l.94 2.06.94-2.06 2.06-.94-2.06-.94-.94-2.06-.94 2.06-2.06.94zm-11 1L8.5 8.5l.94-2.06 2.06-.94-2.06-.94L8.5 2.5l-.94 2.06-2.06.94zm10 10l.94 2.06.94-2.06 2.06-.94-2.06-.94-.94-2.06-.94 2.06-2.06.94z\"/><path d=\"M17.41 7.96l-1.37-1.37c-.4-.4-.92-.59-1.43-.59-.52 0-1.04.2-1.43.59L10.3 9.45l-7.72 7.72c-.78.78-.78 2.05 0 2.83L4 21.41c.39.39.9.59 1.41.59.51 0 1.02-.2 1.41-.59l7.78-7.78 2.81-2.81c.8-.78.8-2.07 0-2.86zM5.41 20L4 18.59l7.72-7.72 1.47 1.35L5.41 20z\"/>\n",
              "  </svg>\n",
              "      </button>\n",
              "      \n",
              "  <style>\n",
              "    .colab-df-container {\n",
              "      display:flex;\n",
              "      flex-wrap:wrap;\n",
              "      gap: 12px;\n",
              "    }\n",
              "\n",
              "    .colab-df-convert {\n",
              "      background-color: #E8F0FE;\n",
              "      border: none;\n",
              "      border-radius: 50%;\n",
              "      cursor: pointer;\n",
              "      display: none;\n",
              "      fill: #1967D2;\n",
              "      height: 32px;\n",
              "      padding: 0 0 0 0;\n",
              "      width: 32px;\n",
              "    }\n",
              "\n",
              "    .colab-df-convert:hover {\n",
              "      background-color: #E2EBFA;\n",
              "      box-shadow: 0px 1px 2px rgba(60, 64, 67, 0.3), 0px 1px 3px 1px rgba(60, 64, 67, 0.15);\n",
              "      fill: #174EA6;\n",
              "    }\n",
              "\n",
              "    [theme=dark] .colab-df-convert {\n",
              "      background-color: #3B4455;\n",
              "      fill: #D2E3FC;\n",
              "    }\n",
              "\n",
              "    [theme=dark] .colab-df-convert:hover {\n",
              "      background-color: #434B5C;\n",
              "      box-shadow: 0px 1px 3px 1px rgba(0, 0, 0, 0.15);\n",
              "      filter: drop-shadow(0px 1px 2px rgba(0, 0, 0, 0.3));\n",
              "      fill: #FFFFFF;\n",
              "    }\n",
              "  </style>\n",
              "\n",
              "      <script>\n",
              "        const buttonEl =\n",
              "          document.querySelector('#df-1ab236e8-e4d6-47da-89de-1320810636f3 button.colab-df-convert');\n",
              "        buttonEl.style.display =\n",
              "          google.colab.kernel.accessAllowed ? 'block' : 'none';\n",
              "\n",
              "        async function convertToInteractive(key) {\n",
              "          const element = document.querySelector('#df-1ab236e8-e4d6-47da-89de-1320810636f3');\n",
              "          const dataTable =\n",
              "            await google.colab.kernel.invokeFunction('convertToInteractive',\n",
              "                                                     [key], {});\n",
              "          if (!dataTable) return;\n",
              "\n",
              "          const docLinkHtml = 'Like what you see? Visit the ' +\n",
              "            '<a target=\"_blank\" href=https://colab.research.google.com/notebooks/data_table.ipynb>data table notebook</a>'\n",
              "            + ' to learn more about interactive tables.';\n",
              "          element.innerHTML = '';\n",
              "          dataTable['output_type'] = 'display_data';\n",
              "          await google.colab.output.renderOutput(dataTable, element);\n",
              "          const docLink = document.createElement('div');\n",
              "          docLink.innerHTML = docLinkHtml;\n",
              "          element.appendChild(docLink);\n",
              "        }\n",
              "      </script>\n",
              "    </div>\n",
              "  </div>\n",
              "  "
            ]
          },
          "metadata": {},
          "execution_count": 20
        }
      ],
      "source": [
        "data[data.text.isnull()]"
      ]
    },
    {
      "cell_type": "code",
      "execution_count": null,
      "id": "18cd6ab8",
      "metadata": {
        "colab": {
          "base_uri": "https://localhost:8080/",
          "height": 589
        },
        "id": "18cd6ab8",
        "outputId": "4560c524-cf86-466e-9fd0-1d10a1d348e5"
      },
      "outputs": [
        {
          "output_type": "execute_result",
          "data": {
            "text/plain": [
              "                   review_id  \\\n",
              "254    product_review_000254   \n",
              "627    product_review_000627   \n",
              "663    product_review_000663   \n",
              "758    product_review_000758   \n",
              "817    product_review_000817   \n",
              "...                      ...   \n",
              "31668  product_review_031668   \n",
              "31913  product_review_031913   \n",
              "32329  product_review_032329   \n",
              "32631  product_review_032631   \n",
              "32841  product_review_032841   \n",
              "\n",
              "                                                    text verified  \\\n",
              "254    Good game play, mainly got for the FF demo. Go...      NaN   \n",
              "627    I put this top hat on a 2012 Fender Telecaster...      NaN   \n",
              "663    Not comfortable at all, very awkward to hold i...      NaN   \n",
              "758    If you need some 6\" cables to connect your ped...      NaN   \n",
              "817    Fast shipping, seller is a pleasure to do busi...      NaN   \n",
              "...                                                  ...      ...   \n",
              "31668                                          amasing.       NaN   \n",
              "31913                    Works perfectly. Enough said..       NaN   \n",
              "32329  The battle system is Turn-Based, 3 on 3 monste...      NaN   \n",
              "32631  Very happy. Very fast and accurate tuner. Good...      NaN   \n",
              "32841  A gift for my granddaughter. She loves this ga...      NaN   \n",
              "\n",
              "       review_score     product_category  \n",
              "254             4.0          video_games  \n",
              "627             5.0  musical_instruments  \n",
              "663            -1.0          video_games  \n",
              "758             5.0  musical_instruments  \n",
              "817             5.0          video_games  \n",
              "...             ...                  ...  \n",
              "31668           5.0  musical_instruments  \n",
              "31913           5.0          video_games  \n",
              "32329           3.0          video_games  \n",
              "32631           5.0  musical_instruments  \n",
              "32841           5.0          video_games  \n",
              "\n",
              "[114 rows x 5 columns]"
            ],
            "text/html": [
              "\n",
              "  <div id=\"df-892aa622-52c8-4ffc-98a2-e838044a04fb\">\n",
              "    <div class=\"colab-df-container\">\n",
              "      <div>\n",
              "<style scoped>\n",
              "    .dataframe tbody tr th:only-of-type {\n",
              "        vertical-align: middle;\n",
              "    }\n",
              "\n",
              "    .dataframe tbody tr th {\n",
              "        vertical-align: top;\n",
              "    }\n",
              "\n",
              "    .dataframe thead th {\n",
              "        text-align: right;\n",
              "    }\n",
              "</style>\n",
              "<table border=\"1\" class=\"dataframe\">\n",
              "  <thead>\n",
              "    <tr style=\"text-align: right;\">\n",
              "      <th></th>\n",
              "      <th>review_id</th>\n",
              "      <th>text</th>\n",
              "      <th>verified</th>\n",
              "      <th>review_score</th>\n",
              "      <th>product_category</th>\n",
              "    </tr>\n",
              "  </thead>\n",
              "  <tbody>\n",
              "    <tr>\n",
              "      <th>254</th>\n",
              "      <td>product_review_000254</td>\n",
              "      <td>Good game play, mainly got for the FF demo. Go...</td>\n",
              "      <td>NaN</td>\n",
              "      <td>4.0</td>\n",
              "      <td>video_games</td>\n",
              "    </tr>\n",
              "    <tr>\n",
              "      <th>627</th>\n",
              "      <td>product_review_000627</td>\n",
              "      <td>I put this top hat on a 2012 Fender Telecaster...</td>\n",
              "      <td>NaN</td>\n",
              "      <td>5.0</td>\n",
              "      <td>musical_instruments</td>\n",
              "    </tr>\n",
              "    <tr>\n",
              "      <th>663</th>\n",
              "      <td>product_review_000663</td>\n",
              "      <td>Not comfortable at all, very awkward to hold i...</td>\n",
              "      <td>NaN</td>\n",
              "      <td>-1.0</td>\n",
              "      <td>video_games</td>\n",
              "    </tr>\n",
              "    <tr>\n",
              "      <th>758</th>\n",
              "      <td>product_review_000758</td>\n",
              "      <td>If you need some 6\" cables to connect your ped...</td>\n",
              "      <td>NaN</td>\n",
              "      <td>5.0</td>\n",
              "      <td>musical_instruments</td>\n",
              "    </tr>\n",
              "    <tr>\n",
              "      <th>817</th>\n",
              "      <td>product_review_000817</td>\n",
              "      <td>Fast shipping, seller is a pleasure to do busi...</td>\n",
              "      <td>NaN</td>\n",
              "      <td>5.0</td>\n",
              "      <td>video_games</td>\n",
              "    </tr>\n",
              "    <tr>\n",
              "      <th>...</th>\n",
              "      <td>...</td>\n",
              "      <td>...</td>\n",
              "      <td>...</td>\n",
              "      <td>...</td>\n",
              "      <td>...</td>\n",
              "    </tr>\n",
              "    <tr>\n",
              "      <th>31668</th>\n",
              "      <td>product_review_031668</td>\n",
              "      <td>amasing.</td>\n",
              "      <td>NaN</td>\n",
              "      <td>5.0</td>\n",
              "      <td>musical_instruments</td>\n",
              "    </tr>\n",
              "    <tr>\n",
              "      <th>31913</th>\n",
              "      <td>product_review_031913</td>\n",
              "      <td>Works perfectly. Enough said..</td>\n",
              "      <td>NaN</td>\n",
              "      <td>5.0</td>\n",
              "      <td>video_games</td>\n",
              "    </tr>\n",
              "    <tr>\n",
              "      <th>32329</th>\n",
              "      <td>product_review_032329</td>\n",
              "      <td>The battle system is Turn-Based, 3 on 3 monste...</td>\n",
              "      <td>NaN</td>\n",
              "      <td>3.0</td>\n",
              "      <td>video_games</td>\n",
              "    </tr>\n",
              "    <tr>\n",
              "      <th>32631</th>\n",
              "      <td>product_review_032631</td>\n",
              "      <td>Very happy. Very fast and accurate tuner. Good...</td>\n",
              "      <td>NaN</td>\n",
              "      <td>5.0</td>\n",
              "      <td>musical_instruments</td>\n",
              "    </tr>\n",
              "    <tr>\n",
              "      <th>32841</th>\n",
              "      <td>product_review_032841</td>\n",
              "      <td>A gift for my granddaughter. She loves this ga...</td>\n",
              "      <td>NaN</td>\n",
              "      <td>5.0</td>\n",
              "      <td>video_games</td>\n",
              "    </tr>\n",
              "  </tbody>\n",
              "</table>\n",
              "<p>114 rows × 5 columns</p>\n",
              "</div>\n",
              "      <button class=\"colab-df-convert\" onclick=\"convertToInteractive('df-892aa622-52c8-4ffc-98a2-e838044a04fb')\"\n",
              "              title=\"Convert this dataframe to an interactive table.\"\n",
              "              style=\"display:none;\">\n",
              "        \n",
              "  <svg xmlns=\"http://www.w3.org/2000/svg\" height=\"24px\"viewBox=\"0 0 24 24\"\n",
              "       width=\"24px\">\n",
              "    <path d=\"M0 0h24v24H0V0z\" fill=\"none\"/>\n",
              "    <path d=\"M18.56 5.44l.94 2.06.94-2.06 2.06-.94-2.06-.94-.94-2.06-.94 2.06-2.06.94zm-11 1L8.5 8.5l.94-2.06 2.06-.94-2.06-.94L8.5 2.5l-.94 2.06-2.06.94zm10 10l.94 2.06.94-2.06 2.06-.94-2.06-.94-.94-2.06-.94 2.06-2.06.94z\"/><path d=\"M17.41 7.96l-1.37-1.37c-.4-.4-.92-.59-1.43-.59-.52 0-1.04.2-1.43.59L10.3 9.45l-7.72 7.72c-.78.78-.78 2.05 0 2.83L4 21.41c.39.39.9.59 1.41.59.51 0 1.02-.2 1.41-.59l7.78-7.78 2.81-2.81c.8-.78.8-2.07 0-2.86zM5.41 20L4 18.59l7.72-7.72 1.47 1.35L5.41 20z\"/>\n",
              "  </svg>\n",
              "      </button>\n",
              "      \n",
              "  <style>\n",
              "    .colab-df-container {\n",
              "      display:flex;\n",
              "      flex-wrap:wrap;\n",
              "      gap: 12px;\n",
              "    }\n",
              "\n",
              "    .colab-df-convert {\n",
              "      background-color: #E8F0FE;\n",
              "      border: none;\n",
              "      border-radius: 50%;\n",
              "      cursor: pointer;\n",
              "      display: none;\n",
              "      fill: #1967D2;\n",
              "      height: 32px;\n",
              "      padding: 0 0 0 0;\n",
              "      width: 32px;\n",
              "    }\n",
              "\n",
              "    .colab-df-convert:hover {\n",
              "      background-color: #E2EBFA;\n",
              "      box-shadow: 0px 1px 2px rgba(60, 64, 67, 0.3), 0px 1px 3px 1px rgba(60, 64, 67, 0.15);\n",
              "      fill: #174EA6;\n",
              "    }\n",
              "\n",
              "    [theme=dark] .colab-df-convert {\n",
              "      background-color: #3B4455;\n",
              "      fill: #D2E3FC;\n",
              "    }\n",
              "\n",
              "    [theme=dark] .colab-df-convert:hover {\n",
              "      background-color: #434B5C;\n",
              "      box-shadow: 0px 1px 3px 1px rgba(0, 0, 0, 0.15);\n",
              "      filter: drop-shadow(0px 1px 2px rgba(0, 0, 0, 0.3));\n",
              "      fill: #FFFFFF;\n",
              "    }\n",
              "  </style>\n",
              "\n",
              "      <script>\n",
              "        const buttonEl =\n",
              "          document.querySelector('#df-892aa622-52c8-4ffc-98a2-e838044a04fb button.colab-df-convert');\n",
              "        buttonEl.style.display =\n",
              "          google.colab.kernel.accessAllowed ? 'block' : 'none';\n",
              "\n",
              "        async function convertToInteractive(key) {\n",
              "          const element = document.querySelector('#df-892aa622-52c8-4ffc-98a2-e838044a04fb');\n",
              "          const dataTable =\n",
              "            await google.colab.kernel.invokeFunction('convertToInteractive',\n",
              "                                                     [key], {});\n",
              "          if (!dataTable) return;\n",
              "\n",
              "          const docLinkHtml = 'Like what you see? Visit the ' +\n",
              "            '<a target=\"_blank\" href=https://colab.research.google.com/notebooks/data_table.ipynb>data table notebook</a>'\n",
              "            + ' to learn more about interactive tables.';\n",
              "          element.innerHTML = '';\n",
              "          dataTable['output_type'] = 'display_data';\n",
              "          await google.colab.output.renderOutput(dataTable, element);\n",
              "          const docLink = document.createElement('div');\n",
              "          docLink.innerHTML = docLinkHtml;\n",
              "          element.appendChild(docLink);\n",
              "        }\n",
              "      </script>\n",
              "    </div>\n",
              "  </div>\n",
              "  "
            ]
          },
          "metadata": {},
          "execution_count": 21
        }
      ],
      "source": [
        "data[data.verified.isnull()]"
      ]
    },
    {
      "cell_type": "code",
      "execution_count": null,
      "id": "db88c101",
      "metadata": {
        "colab": {
          "base_uri": "https://localhost:8080/",
          "height": 457
        },
        "id": "db88c101",
        "outputId": "13e04222-d851-4ae1-c191-09271d24a761"
      },
      "outputs": [
        {
          "output_type": "execute_result",
          "data": {
            "text/plain": [
              "                   review_id text verified  review_score     product_category\n",
              "78     product_review_000078  NaN     True           5.0          video_games\n",
              "1240   product_review_001240  NaN     True           3.0          video_games\n",
              "5149   product_review_005149  NaN     True           3.0          video_games\n",
              "8491   product_review_008491  NaN     True           2.0          video_games\n",
              "9217   product_review_009217  NaN     True           5.0          video_games\n",
              "9717   product_review_009717  NaN    False           5.0          video_games\n",
              "10555  product_review_010555  NaN     True           5.0          video_games\n",
              "10682  product_review_010682  NaN     True           2.0          video_games\n",
              "16939  product_review_016939  NaN     True           4.0          video_games\n",
              "19792  product_review_019792  NaN     True           5.0          video_games\n",
              "27519  product_review_027519  NaN     True           5.0  musical_instruments\n",
              "30852  product_review_030852  NaN     True           5.0          video_games\n",
              "32071  product_review_032071  NaN     True           5.0          video_games"
            ],
            "text/html": [
              "\n",
              "  <div id=\"df-8aa705cb-55f6-43e5-b24b-a28b052a6740\">\n",
              "    <div class=\"colab-df-container\">\n",
              "      <div>\n",
              "<style scoped>\n",
              "    .dataframe tbody tr th:only-of-type {\n",
              "        vertical-align: middle;\n",
              "    }\n",
              "\n",
              "    .dataframe tbody tr th {\n",
              "        vertical-align: top;\n",
              "    }\n",
              "\n",
              "    .dataframe thead th {\n",
              "        text-align: right;\n",
              "    }\n",
              "</style>\n",
              "<table border=\"1\" class=\"dataframe\">\n",
              "  <thead>\n",
              "    <tr style=\"text-align: right;\">\n",
              "      <th></th>\n",
              "      <th>review_id</th>\n",
              "      <th>text</th>\n",
              "      <th>verified</th>\n",
              "      <th>review_score</th>\n",
              "      <th>product_category</th>\n",
              "    </tr>\n",
              "  </thead>\n",
              "  <tbody>\n",
              "    <tr>\n",
              "      <th>78</th>\n",
              "      <td>product_review_000078</td>\n",
              "      <td>NaN</td>\n",
              "      <td>True</td>\n",
              "      <td>5.0</td>\n",
              "      <td>video_games</td>\n",
              "    </tr>\n",
              "    <tr>\n",
              "      <th>1240</th>\n",
              "      <td>product_review_001240</td>\n",
              "      <td>NaN</td>\n",
              "      <td>True</td>\n",
              "      <td>3.0</td>\n",
              "      <td>video_games</td>\n",
              "    </tr>\n",
              "    <tr>\n",
              "      <th>5149</th>\n",
              "      <td>product_review_005149</td>\n",
              "      <td>NaN</td>\n",
              "      <td>True</td>\n",
              "      <td>3.0</td>\n",
              "      <td>video_games</td>\n",
              "    </tr>\n",
              "    <tr>\n",
              "      <th>8491</th>\n",
              "      <td>product_review_008491</td>\n",
              "      <td>NaN</td>\n",
              "      <td>True</td>\n",
              "      <td>2.0</td>\n",
              "      <td>video_games</td>\n",
              "    </tr>\n",
              "    <tr>\n",
              "      <th>9217</th>\n",
              "      <td>product_review_009217</td>\n",
              "      <td>NaN</td>\n",
              "      <td>True</td>\n",
              "      <td>5.0</td>\n",
              "      <td>video_games</td>\n",
              "    </tr>\n",
              "    <tr>\n",
              "      <th>9717</th>\n",
              "      <td>product_review_009717</td>\n",
              "      <td>NaN</td>\n",
              "      <td>False</td>\n",
              "      <td>5.0</td>\n",
              "      <td>video_games</td>\n",
              "    </tr>\n",
              "    <tr>\n",
              "      <th>10555</th>\n",
              "      <td>product_review_010555</td>\n",
              "      <td>NaN</td>\n",
              "      <td>True</td>\n",
              "      <td>5.0</td>\n",
              "      <td>video_games</td>\n",
              "    </tr>\n",
              "    <tr>\n",
              "      <th>10682</th>\n",
              "      <td>product_review_010682</td>\n",
              "      <td>NaN</td>\n",
              "      <td>True</td>\n",
              "      <td>2.0</td>\n",
              "      <td>video_games</td>\n",
              "    </tr>\n",
              "    <tr>\n",
              "      <th>16939</th>\n",
              "      <td>product_review_016939</td>\n",
              "      <td>NaN</td>\n",
              "      <td>True</td>\n",
              "      <td>4.0</td>\n",
              "      <td>video_games</td>\n",
              "    </tr>\n",
              "    <tr>\n",
              "      <th>19792</th>\n",
              "      <td>product_review_019792</td>\n",
              "      <td>NaN</td>\n",
              "      <td>True</td>\n",
              "      <td>5.0</td>\n",
              "      <td>video_games</td>\n",
              "    </tr>\n",
              "    <tr>\n",
              "      <th>27519</th>\n",
              "      <td>product_review_027519</td>\n",
              "      <td>NaN</td>\n",
              "      <td>True</td>\n",
              "      <td>5.0</td>\n",
              "      <td>musical_instruments</td>\n",
              "    </tr>\n",
              "    <tr>\n",
              "      <th>30852</th>\n",
              "      <td>product_review_030852</td>\n",
              "      <td>NaN</td>\n",
              "      <td>True</td>\n",
              "      <td>5.0</td>\n",
              "      <td>video_games</td>\n",
              "    </tr>\n",
              "    <tr>\n",
              "      <th>32071</th>\n",
              "      <td>product_review_032071</td>\n",
              "      <td>NaN</td>\n",
              "      <td>True</td>\n",
              "      <td>5.0</td>\n",
              "      <td>video_games</td>\n",
              "    </tr>\n",
              "  </tbody>\n",
              "</table>\n",
              "</div>\n",
              "      <button class=\"colab-df-convert\" onclick=\"convertToInteractive('df-8aa705cb-55f6-43e5-b24b-a28b052a6740')\"\n",
              "              title=\"Convert this dataframe to an interactive table.\"\n",
              "              style=\"display:none;\">\n",
              "        \n",
              "  <svg xmlns=\"http://www.w3.org/2000/svg\" height=\"24px\"viewBox=\"0 0 24 24\"\n",
              "       width=\"24px\">\n",
              "    <path d=\"M0 0h24v24H0V0z\" fill=\"none\"/>\n",
              "    <path d=\"M18.56 5.44l.94 2.06.94-2.06 2.06-.94-2.06-.94-.94-2.06-.94 2.06-2.06.94zm-11 1L8.5 8.5l.94-2.06 2.06-.94-2.06-.94L8.5 2.5l-.94 2.06-2.06.94zm10 10l.94 2.06.94-2.06 2.06-.94-2.06-.94-.94-2.06-.94 2.06-2.06.94z\"/><path d=\"M17.41 7.96l-1.37-1.37c-.4-.4-.92-.59-1.43-.59-.52 0-1.04.2-1.43.59L10.3 9.45l-7.72 7.72c-.78.78-.78 2.05 0 2.83L4 21.41c.39.39.9.59 1.41.59.51 0 1.02-.2 1.41-.59l7.78-7.78 2.81-2.81c.8-.78.8-2.07 0-2.86zM5.41 20L4 18.59l7.72-7.72 1.47 1.35L5.41 20z\"/>\n",
              "  </svg>\n",
              "      </button>\n",
              "      \n",
              "  <style>\n",
              "    .colab-df-container {\n",
              "      display:flex;\n",
              "      flex-wrap:wrap;\n",
              "      gap: 12px;\n",
              "    }\n",
              "\n",
              "    .colab-df-convert {\n",
              "      background-color: #E8F0FE;\n",
              "      border: none;\n",
              "      border-radius: 50%;\n",
              "      cursor: pointer;\n",
              "      display: none;\n",
              "      fill: #1967D2;\n",
              "      height: 32px;\n",
              "      padding: 0 0 0 0;\n",
              "      width: 32px;\n",
              "    }\n",
              "\n",
              "    .colab-df-convert:hover {\n",
              "      background-color: #E2EBFA;\n",
              "      box-shadow: 0px 1px 2px rgba(60, 64, 67, 0.3), 0px 1px 3px 1px rgba(60, 64, 67, 0.15);\n",
              "      fill: #174EA6;\n",
              "    }\n",
              "\n",
              "    [theme=dark] .colab-df-convert {\n",
              "      background-color: #3B4455;\n",
              "      fill: #D2E3FC;\n",
              "    }\n",
              "\n",
              "    [theme=dark] .colab-df-convert:hover {\n",
              "      background-color: #434B5C;\n",
              "      box-shadow: 0px 1px 3px 1px rgba(0, 0, 0, 0.15);\n",
              "      filter: drop-shadow(0px 1px 2px rgba(0, 0, 0, 0.3));\n",
              "      fill: #FFFFFF;\n",
              "    }\n",
              "  </style>\n",
              "\n",
              "      <script>\n",
              "        const buttonEl =\n",
              "          document.querySelector('#df-8aa705cb-55f6-43e5-b24b-a28b052a6740 button.colab-df-convert');\n",
              "        buttonEl.style.display =\n",
              "          google.colab.kernel.accessAllowed ? 'block' : 'none';\n",
              "\n",
              "        async function convertToInteractive(key) {\n",
              "          const element = document.querySelector('#df-8aa705cb-55f6-43e5-b24b-a28b052a6740');\n",
              "          const dataTable =\n",
              "            await google.colab.kernel.invokeFunction('convertToInteractive',\n",
              "                                                     [key], {});\n",
              "          if (!dataTable) return;\n",
              "\n",
              "          const docLinkHtml = 'Like what you see? Visit the ' +\n",
              "            '<a target=\"_blank\" href=https://colab.research.google.com/notebooks/data_table.ipynb>data table notebook</a>'\n",
              "            + ' to learn more about interactive tables.';\n",
              "          element.innerHTML = '';\n",
              "          dataTable['output_type'] = 'display_data';\n",
              "          await google.colab.output.renderOutput(dataTable, element);\n",
              "          const docLink = document.createElement('div');\n",
              "          docLink.innerHTML = docLinkHtml;\n",
              "          element.appendChild(docLink);\n",
              "        }\n",
              "      </script>\n",
              "    </div>\n",
              "  </div>\n",
              "  "
            ]
          },
          "metadata": {},
          "execution_count": 22
        }
      ],
      "source": [
        "data[data.text.isnull()]"
      ]
    },
    {
      "cell_type": "code",
      "execution_count": null,
      "id": "e3243531",
      "metadata": {
        "colab": {
          "base_uri": "https://localhost:8080/"
        },
        "id": "e3243531",
        "outputId": "2b172da2-1f54-40ff-8465-c8773c56ef1f"
      },
      "outputs": [
        {
          "output_type": "execute_result",
          "data": {
            "text/plain": [
              "(32917, 5)"
            ]
          },
          "metadata": {},
          "execution_count": 23
        }
      ],
      "source": [
        "data.shape"
      ]
    },
    {
      "cell_type": "markdown",
      "id": "f425a169",
      "metadata": {
        "id": "f425a169"
      },
      "source": [
        "# removing review empty rows"
      ]
    },
    {
      "cell_type": "code",
      "execution_count": null,
      "id": "fc44a9b5",
      "metadata": {
        "colab": {
          "base_uri": "https://localhost:8080/",
          "height": 165
        },
        "id": "fc44a9b5",
        "outputId": "cad5798b-0a61-47f9-ba99-0f19fee4419d"
      },
      "outputs": [
        {
          "output_type": "error",
          "ename": "NameError",
          "evalue": "ignored",
          "traceback": [
            "\u001b[0;31m---------------------------------------------------------------------------\u001b[0m",
            "\u001b[0;31mNameError\u001b[0m                                 Traceback (most recent call last)",
            "\u001b[0;32m<ipython-input-1-a621e1fa1bad>\u001b[0m in \u001b[0;36m<module>\u001b[0;34m()\u001b[0m\n\u001b[0;32m----> 1\u001b[0;31m \u001b[0mfinal_data\u001b[0m \u001b[0;34m=\u001b[0m \u001b[0mdata\u001b[0m\u001b[0;34m[\u001b[0m\u001b[0mdata\u001b[0m\u001b[0;34m.\u001b[0m\u001b[0mtext\u001b[0m\u001b[0;34m.\u001b[0m\u001b[0misnull\u001b[0m\u001b[0;34m(\u001b[0m\u001b[0;34m)\u001b[0m\u001b[0;34m==\u001b[0m\u001b[0;32mFalse\u001b[0m\u001b[0;34m]\u001b[0m\u001b[0;34m\u001b[0m\u001b[0;34m\u001b[0m\u001b[0m\n\u001b[0m",
            "\u001b[0;31mNameError\u001b[0m: name 'data' is not defined"
          ]
        }
      ],
      "source": [
        "final_data = data[data.text.isnull()==False]"
      ]
    },
    {
      "cell_type": "code",
      "execution_count": null,
      "id": "98c610cb",
      "metadata": {
        "colab": {
          "base_uri": "https://localhost:8080/",
          "height": 165
        },
        "id": "98c610cb",
        "outputId": "f2f6ae73-9528-4a4c-d472-531b57b475cf"
      },
      "outputs": [
        {
          "output_type": "error",
          "ename": "NameError",
          "evalue": "ignored",
          "traceback": [
            "\u001b[0;31m---------------------------------------------------------------------------\u001b[0m",
            "\u001b[0;31mNameError\u001b[0m                                 Traceback (most recent call last)",
            "\u001b[0;32m<ipython-input-2-b354e1e4fd15>\u001b[0m in \u001b[0;36m<module>\u001b[0;34m()\u001b[0m\n\u001b[0;32m----> 1\u001b[0;31m \u001b[0mfinal_data\u001b[0m\u001b[0;34m[\u001b[0m\u001b[0mfinal_data\u001b[0m\u001b[0;34m.\u001b[0m\u001b[0mtext\u001b[0m\u001b[0;34m.\u001b[0m\u001b[0misnull\u001b[0m\u001b[0;34m(\u001b[0m\u001b[0;34m)\u001b[0m\u001b[0;34m]\u001b[0m\u001b[0;34m\u001b[0m\u001b[0;34m\u001b[0m\u001b[0m\n\u001b[0m",
            "\u001b[0;31mNameError\u001b[0m: name 'final_data' is not defined"
          ]
        }
      ],
      "source": [
        "final_data[final_data.text.isnull()]"
      ]
    },
    {
      "cell_type": "code",
      "execution_count": null,
      "id": "3c112e70",
      "metadata": {
        "id": "3c112e70"
      },
      "outputs": [],
      "source": []
    },
    {
      "cell_type": "markdown",
      "source": [
        "up to here"
      ],
      "metadata": {
        "id": "Nq8l9t5QUSfz"
      },
      "id": "Nq8l9t5QUSfz"
    },
    {
      "cell_type": "code",
      "execution_count": null,
      "id": "c4e4bac8",
      "metadata": {
        "colab": {
          "base_uri": "https://localhost:8080/"
        },
        "id": "c4e4bac8",
        "outputId": "b4166c3f-77f3-4da9-807a-378dd3f82935"
      },
      "outputs": [
        {
          "output_type": "stream",
          "name": "stdout",
          "text": [
            "{'john': 4, 'is': 3, 'good': 2, 'boy': 1, 'watches': 5, 'basketball': 0}\n",
            "(1, 6)\n",
            "[[1 1 1 1 2 1]]\n"
          ]
        }
      ],
      "source": [
        "from sklearn.feature_extraction.text import CountVectorizer\n",
        "\n",
        "# list of text documents\n",
        "text = [\"John is a good boy. John watches basketball\"]\n",
        "\n",
        "vectorizer = CountVectorizer()\n",
        "# vectorizer = CountVectorizer()\n",
        "\n",
        "# tokenize and build vocab\n",
        "vectorizer.fit(text)\n",
        "\n",
        "print(vectorizer.vocabulary_)\n",
        "\n",
        "# encode document\n",
        "vector = vectorizer.transform(text)\n",
        "# summarize encoded vector\n",
        "print(vector.shape)\n",
        "print(vector.toarray())"
      ]
    },
    {
      "cell_type": "code",
      "execution_count": null,
      "id": "9aeac4a3",
      "metadata": {
        "colab": {
          "base_uri": "https://localhost:8080/",
          "height": 235
        },
        "id": "9aeac4a3",
        "outputId": "812a798f-cce6-4200-af58-0322ad8ba5e5"
      },
      "outputs": [
        {
          "output_type": "error",
          "ename": "NameError",
          "evalue": "ignored",
          "traceback": [
            "\u001b[0;31m---------------------------------------------------------------------------\u001b[0m",
            "\u001b[0;31mNameError\u001b[0m                                 Traceback (most recent call last)",
            "\u001b[0;32m<ipython-input-4-3b9dee96bfb2>\u001b[0m in \u001b[0;36m<module>\u001b[0;34m()\u001b[0m\n\u001b[1;32m      3\u001b[0m \u001b[0;32mfrom\u001b[0m \u001b[0msklearn\u001b[0m\u001b[0;34m.\u001b[0m\u001b[0mmodel_selection\u001b[0m \u001b[0;32mimport\u001b[0m \u001b[0mtrain_test_split\u001b[0m\u001b[0;34m\u001b[0m\u001b[0;34m\u001b[0m\u001b[0m\n\u001b[1;32m      4\u001b[0m \u001b[0;34m\u001b[0m\u001b[0m\n\u001b[0;32m----> 5\u001b[0;31m \u001b[0mtraining_data\u001b[0m\u001b[0;34m,\u001b[0m \u001b[0mtesting_data\u001b[0m \u001b[0;34m=\u001b[0m \u001b[0mtrain_test_split\u001b[0m\u001b[0;34m(\u001b[0m\u001b[0mfinal_data\u001b[0m\u001b[0;34m,\u001b[0m \u001b[0mtest_size\u001b[0m\u001b[0;34m=\u001b[0m\u001b[0;36m0.2\u001b[0m\u001b[0;34m,\u001b[0m \u001b[0mrandom_state\u001b[0m\u001b[0;34m=\u001b[0m\u001b[0;36m25\u001b[0m\u001b[0;34m)\u001b[0m\u001b[0;34m\u001b[0m\u001b[0;34m\u001b[0m\u001b[0m\n\u001b[0m\u001b[1;32m      6\u001b[0m \u001b[0;34m\u001b[0m\u001b[0m\n\u001b[1;32m      7\u001b[0m \u001b[0mprint\u001b[0m\u001b[0;34m(\u001b[0m\u001b[0;34mf\"No. of training examples: {training_data.shape[0]}\"\u001b[0m\u001b[0;34m)\u001b[0m\u001b[0;34m\u001b[0m\u001b[0;34m\u001b[0m\u001b[0m\n",
            "\u001b[0;31mNameError\u001b[0m: name 'final_data' is not defined"
          ]
        }
      ],
      "source": [
        "# splitting data into test and train :\n",
        "\n",
        "from sklearn.model_selection import train_test_split\n",
        "\n",
        "training_data, testing_data = train_test_split(final_data, test_size=0.2, random_state=25)\n",
        "\n",
        "print(f\"No. of training examples: {training_data.shape[0]}\")\n",
        "print(f\"No. of testing examples: {testing_data.shape[0]}\")\n",
        "\n",
        "\n"
      ]
    },
    {
      "cell_type": "code",
      "execution_count": null,
      "id": "9d9d92f1",
      "metadata": {
        "id": "9d9d92f1"
      },
      "outputs": [],
      "source": [
        "training_data.head()"
      ]
    },
    {
      "cell_type": "code",
      "execution_count": null,
      "id": "3ed304ad",
      "metadata": {
        "id": "3ed304ad"
      },
      "outputs": [],
      "source": [
        "from sklearn.naive_bayes import MultinomialNB\n",
        "from sklearn import metrics"
      ]
    },
    {
      "cell_type": "code",
      "execution_count": null,
      "id": "36f65b6c",
      "metadata": {
        "id": "36f65b6c"
      },
      "outputs": [],
      "source": [
        "from sklearn.feature_extraction.text import CountVectorizer\n",
        "vectorizer = CountVectorizer()"
      ]
    },
    {
      "cell_type": "code",
      "execution_count": null,
      "id": "15238e8c",
      "metadata": {
        "id": "15238e8c"
      },
      "outputs": [],
      "source": [
        "target_1 = final_data.iloc[:,:-1]\n",
        "\n",
        "target_1['review_score'] = target_1['review_score'].astype(int)\n",
        "\n",
        "print(target_1.head())\n",
        "\n",
        "print(target_1.info())"
      ]
    },
    {
      "cell_type": "code",
      "execution_count": null,
      "id": "dc13731f",
      "metadata": {
        "id": "dc13731f"
      },
      "outputs": [],
      "source": [
        "data_temp = target_1\n",
        "\n",
        "data_temp = data_temp.drop('review_id', 1)\n",
        "\n",
        "data_temp.head()"
      ]
    },
    {
      "cell_type": "code",
      "execution_count": null,
      "id": "da02f1dd",
      "metadata": {
        "id": "da02f1dd"
      },
      "outputs": [],
      "source": [
        "data_temp['review_score'].unique()"
      ]
    },
    {
      "cell_type": "code",
      "execution_count": null,
      "id": "97ff5ede",
      "metadata": {
        "id": "97ff5ede"
      },
      "outputs": [],
      "source": [
        "data_temp['review_score'].value_counts()"
      ]
    },
    {
      "cell_type": "code",
      "execution_count": null,
      "id": "c490359c",
      "metadata": {
        "id": "c490359c"
      },
      "outputs": [],
      "source": [
        "data_temp['verified'].unique()"
      ]
    },
    {
      "cell_type": "code",
      "execution_count": null,
      "id": "1ca968ab",
      "metadata": {
        "id": "1ca968ab"
      },
      "outputs": [],
      "source": [
        "data_temp['verified'].value_counts()"
      ]
    },
    {
      "cell_type": "code",
      "execution_count": null,
      "id": "7ff233a6",
      "metadata": {
        "id": "7ff233a6"
      },
      "outputs": [],
      "source": [
        "data_temp['verified'][data_temp['verified'].isnull()==True]=1"
      ]
    },
    {
      "cell_type": "code",
      "execution_count": null,
      "id": "93eb743e",
      "metadata": {
        "id": "93eb743e"
      },
      "outputs": [],
      "source": [
        "data_temp['verified'].unique()"
      ]
    },
    {
      "cell_type": "code",
      "execution_count": null,
      "id": "20bc2140",
      "metadata": {
        "id": "20bc2140"
      },
      "outputs": [],
      "source": [
        "data_temp['verified'] = data_temp['verified'].replace([False, True], ['0','1'])\n",
        "\n",
        "data_temp['verified'] = data_temp['verified'].astype(int)"
      ]
    },
    {
      "cell_type": "code",
      "execution_count": null,
      "id": "57275d68",
      "metadata": {
        "id": "57275d68"
      },
      "outputs": [],
      "source": [
        "data_temp['verified'].unique()"
      ]
    },
    {
      "cell_type": "code",
      "execution_count": null,
      "id": "7426a39d",
      "metadata": {
        "id": "7426a39d"
      },
      "outputs": [],
      "source": [
        "data_temp['verified'].value_counts()"
      ]
    },
    {
      "cell_type": "code",
      "execution_count": null,
      "id": "13bb24a0",
      "metadata": {
        "id": "13bb24a0"
      },
      "outputs": [],
      "source": [
        "data_temp['verified'].hist()"
      ]
    },
    {
      "cell_type": "code",
      "execution_count": null,
      "id": "a5ce3661",
      "metadata": {
        "id": "a5ce3661"
      },
      "outputs": [],
      "source": [
        "data_temp['verified'][data_temp['verified']=='nan']"
      ]
    },
    {
      "cell_type": "code",
      "execution_count": null,
      "id": "319546fe",
      "metadata": {
        "id": "319546fe"
      },
      "outputs": [],
      "source": [
        "data_temp.info()"
      ]
    },
    {
      "cell_type": "code",
      "execution_count": null,
      "id": "204f2ab4",
      "metadata": {
        "id": "204f2ab4"
      },
      "outputs": [],
      "source": [
        "from sklearn.feature_extraction.text import TfidfTransformer\n",
        "from sklearn.feature_extraction.text import TfidfVectorizer\n",
        "# tfidfconverter = TfidfTransformer()\n",
        "\n",
        "# X = tfidfconverter.fit_transform(data_temp.iloc[:,:-1])\n",
        "# y = data_temp['review_score']\n",
        "\n",
        "\n",
        "\n",
        "X_train, X_test, y_train, y_test = train_test_split(data_temp[\"text\"],data_temp[\"review_score\"],test_size=0.2,shuffle=True)\n",
        "\n",
        "tfidf_vectorizer = TfidfVectorizer(use_idf=True)\n",
        "X_train_vectors_tfidf = tfidf_vectorizer.fit_transform(X_train)\n",
        "X_test_vectors_tfidf = tfidf_vectorizer.transform(X_test)\n",
        "\n",
        "\n",
        "\n"
      ]
    },
    {
      "cell_type": "code",
      "execution_count": null,
      "id": "66753353",
      "metadata": {
        "id": "66753353"
      },
      "outputs": [],
      "source": [
        "from sklearn.model_selection import train_test_split\n",
        "from sklearn.linear_model import LogisticRegression\n",
        "from sklearn.naive_bayes import MultinomialNB\n",
        "from sklearn.metrics import classification_report, f1_score, accuracy_score, confusion_matrix\n",
        "from sklearn.metrics import roc_curve, auc, roc_auc_score\n"
      ]
    },
    {
      "cell_type": "code",
      "execution_count": null,
      "id": "22e44f36",
      "metadata": {
        "id": "22e44f36"
      },
      "outputs": [],
      "source": [
        "#FITTING THE CLASSIFICATION MODEL using Logistic Regression(tf-idf)\n",
        "lr_tfidf=LogisticRegression(solver = 'liblinear', C=10, penalty = 'l2')\n",
        "lr_tfidf.fit(X_train_vectors_tfidf, y_train)\n",
        "#Predict y value for test dataset\n",
        "y_predict = lr_tfidf.predict(X_test_vectors_tfidf)\n",
        "y_prob = lr_tfidf.predict_proba(X_test_vectors_tfidf)[:,1]\n",
        "print(classification_report(y_test,y_predict))\n",
        "print('Confusion Matrix:',confusion_matrix(y_test, y_predict))\n",
        "\n",
        "# fpr, tpr, thresholds = roc_curve(y_test, y_prob)\n",
        "# roc_auc = auc(fpr, tpr)\n",
        "# print('AUC:', roc_auc)\n"
      ]
    },
    {
      "cell_type": "code",
      "execution_count": null,
      "id": "e845c477",
      "metadata": {
        "id": "e845c477"
      },
      "outputs": [],
      "source": [
        "# Using naive bayes\n",
        "\n",
        "\n",
        "#FITTING THE CLASSIFICATION MODEL using Naive Bayes(tf-idf)\n",
        "nb_tfidf = MultinomialNB()\n",
        "nb_tfidf.fit(X_train_vectors_tfidf, y_train)\n",
        "#Predict y value for test dataset\n",
        "y_predict = nb_tfidf.predict(X_test_vectors_tfidf)\n",
        "y_prob = nb_tfidf.predict_proba(X_test_vectors_tfidf)[:,1]\n",
        "print(classification_report(y_test,y_predict))\n",
        "print('Confusion Matrix:',confusion_matrix(y_test, y_predict))\n",
        "\n",
        "# fpr, tpr, thresholds = roc_curve(y_test, y_prob)\n",
        "# roc_auc = auc(fpr, tpr)\n",
        "# print('AUC:', roc_auc)"
      ]
    },
    {
      "cell_type": "code",
      "execution_count": null,
      "id": "4b5eaca0",
      "metadata": {
        "id": "4b5eaca0"
      },
      "outputs": [],
      "source": [
        "from sklearn.model_selection import train_test_split\n",
        "from sklearn.feature_extraction.text import CountVectorizer\n",
        "from sklearn.feature_extraction.text import TfidfTransformer\n",
        "from sklearn.naive_bayes import MultinomialNB\n",
        "from sklearn.ensemble import RandomForestClassifier\n",
        "\n",
        "# X_train, X_test, y_train, y_test = train_test_split(data_temp[\"text\"],data_temp[\"review_score\"],test_size=0.2,shuffle=True)\n",
        "\n",
        "classifier = RandomForestClassifier(n_estimators=100, max_depth=5, random_state=100)\n",
        "classifier.fit(X_train_vectors_tfidf, y_train)\n",
        "\n",
        "# Predicting the Test set results\n",
        "y_pred = classifier.predict(X_test_vectors_tfidf)\n",
        "\n",
        "y_prob = classifier.predict_proba(X_test_vectors_tfidf)[:,1]\n",
        "print(classification_report(y_test,y_predict))\n",
        "print('Confusion Matrix:',confusion_matrix(y_test, y_predict))\n",
        "\n"
      ]
    },
    {
      "cell_type": "markdown",
      "id": "14268f9a",
      "metadata": {
        "id": "14268f9a"
      },
      "source": [
        "# random forest and logistic regression has given the best ressults both of them has given 65% accuracy."
      ]
    },
    {
      "cell_type": "markdown",
      "id": "ffc9f1ab",
      "metadata": {
        "id": "ffc9f1ab"
      },
      "source": [
        "# trying the same after balancing the classes"
      ]
    },
    {
      "cell_type": "code",
      "execution_count": null,
      "id": "ace1d635",
      "metadata": {
        "colab": {
          "base_uri": "https://localhost:8080/",
          "height": 206
        },
        "id": "ace1d635",
        "outputId": "614b461c-f547-4e79-a898-5eec692f43ca"
      },
      "outputs": [
        {
          "output_type": "execute_result",
          "data": {
            "text/plain": [
              "                                                text  verified  review_score\n",
              "0               Works great!. A Decent Condenser Mic         0             5\n",
              "1  All these other posts about DRM this and DRM t...         0             1\n",
              "2  Great looking strings on my black classical gu...         1             5\n",
              "3  I know people rant and rave about this game li...         1             2\n",
              "4  these things are great! just takes some time t...         1             5"
            ],
            "text/html": [
              "\n",
              "  <div id=\"df-70d1aad5-1566-46d9-b069-813cf94e45ee\">\n",
              "    <div class=\"colab-df-container\">\n",
              "      <div>\n",
              "<style scoped>\n",
              "    .dataframe tbody tr th:only-of-type {\n",
              "        vertical-align: middle;\n",
              "    }\n",
              "\n",
              "    .dataframe tbody tr th {\n",
              "        vertical-align: top;\n",
              "    }\n",
              "\n",
              "    .dataframe thead th {\n",
              "        text-align: right;\n",
              "    }\n",
              "</style>\n",
              "<table border=\"1\" class=\"dataframe\">\n",
              "  <thead>\n",
              "    <tr style=\"text-align: right;\">\n",
              "      <th></th>\n",
              "      <th>text</th>\n",
              "      <th>verified</th>\n",
              "      <th>review_score</th>\n",
              "    </tr>\n",
              "  </thead>\n",
              "  <tbody>\n",
              "    <tr>\n",
              "      <th>0</th>\n",
              "      <td>Works great!. A Decent Condenser Mic</td>\n",
              "      <td>0</td>\n",
              "      <td>5</td>\n",
              "    </tr>\n",
              "    <tr>\n",
              "      <th>1</th>\n",
              "      <td>All these other posts about DRM this and DRM t...</td>\n",
              "      <td>0</td>\n",
              "      <td>1</td>\n",
              "    </tr>\n",
              "    <tr>\n",
              "      <th>2</th>\n",
              "      <td>Great looking strings on my black classical gu...</td>\n",
              "      <td>1</td>\n",
              "      <td>5</td>\n",
              "    </tr>\n",
              "    <tr>\n",
              "      <th>3</th>\n",
              "      <td>I know people rant and rave about this game li...</td>\n",
              "      <td>1</td>\n",
              "      <td>2</td>\n",
              "    </tr>\n",
              "    <tr>\n",
              "      <th>4</th>\n",
              "      <td>these things are great! just takes some time t...</td>\n",
              "      <td>1</td>\n",
              "      <td>5</td>\n",
              "    </tr>\n",
              "  </tbody>\n",
              "</table>\n",
              "</div>\n",
              "      <button class=\"colab-df-convert\" onclick=\"convertToInteractive('df-70d1aad5-1566-46d9-b069-813cf94e45ee')\"\n",
              "              title=\"Convert this dataframe to an interactive table.\"\n",
              "              style=\"display:none;\">\n",
              "        \n",
              "  <svg xmlns=\"http://www.w3.org/2000/svg\" height=\"24px\"viewBox=\"0 0 24 24\"\n",
              "       width=\"24px\">\n",
              "    <path d=\"M0 0h24v24H0V0z\" fill=\"none\"/>\n",
              "    <path d=\"M18.56 5.44l.94 2.06.94-2.06 2.06-.94-2.06-.94-.94-2.06-.94 2.06-2.06.94zm-11 1L8.5 8.5l.94-2.06 2.06-.94-2.06-.94L8.5 2.5l-.94 2.06-2.06.94zm10 10l.94 2.06.94-2.06 2.06-.94-2.06-.94-.94-2.06-.94 2.06-2.06.94z\"/><path d=\"M17.41 7.96l-1.37-1.37c-.4-.4-.92-.59-1.43-.59-.52 0-1.04.2-1.43.59L10.3 9.45l-7.72 7.72c-.78.78-.78 2.05 0 2.83L4 21.41c.39.39.9.59 1.41.59.51 0 1.02-.2 1.41-.59l7.78-7.78 2.81-2.81c.8-.78.8-2.07 0-2.86zM5.41 20L4 18.59l7.72-7.72 1.47 1.35L5.41 20z\"/>\n",
              "  </svg>\n",
              "      </button>\n",
              "      \n",
              "  <style>\n",
              "    .colab-df-container {\n",
              "      display:flex;\n",
              "      flex-wrap:wrap;\n",
              "      gap: 12px;\n",
              "    }\n",
              "\n",
              "    .colab-df-convert {\n",
              "      background-color: #E8F0FE;\n",
              "      border: none;\n",
              "      border-radius: 50%;\n",
              "      cursor: pointer;\n",
              "      display: none;\n",
              "      fill: #1967D2;\n",
              "      height: 32px;\n",
              "      padding: 0 0 0 0;\n",
              "      width: 32px;\n",
              "    }\n",
              "\n",
              "    .colab-df-convert:hover {\n",
              "      background-color: #E2EBFA;\n",
              "      box-shadow: 0px 1px 2px rgba(60, 64, 67, 0.3), 0px 1px 3px 1px rgba(60, 64, 67, 0.15);\n",
              "      fill: #174EA6;\n",
              "    }\n",
              "\n",
              "    [theme=dark] .colab-df-convert {\n",
              "      background-color: #3B4455;\n",
              "      fill: #D2E3FC;\n",
              "    }\n",
              "\n",
              "    [theme=dark] .colab-df-convert:hover {\n",
              "      background-color: #434B5C;\n",
              "      box-shadow: 0px 1px 3px 1px rgba(0, 0, 0, 0.15);\n",
              "      filter: drop-shadow(0px 1px 2px rgba(0, 0, 0, 0.3));\n",
              "      fill: #FFFFFF;\n",
              "    }\n",
              "  </style>\n",
              "\n",
              "      <script>\n",
              "        const buttonEl =\n",
              "          document.querySelector('#df-70d1aad5-1566-46d9-b069-813cf94e45ee button.colab-df-convert');\n",
              "        buttonEl.style.display =\n",
              "          google.colab.kernel.accessAllowed ? 'block' : 'none';\n",
              "\n",
              "        async function convertToInteractive(key) {\n",
              "          const element = document.querySelector('#df-70d1aad5-1566-46d9-b069-813cf94e45ee');\n",
              "          const dataTable =\n",
              "            await google.colab.kernel.invokeFunction('convertToInteractive',\n",
              "                                                     [key], {});\n",
              "          if (!dataTable) return;\n",
              "\n",
              "          const docLinkHtml = 'Like what you see? Visit the ' +\n",
              "            '<a target=\"_blank\" href=https://colab.research.google.com/notebooks/data_table.ipynb>data table notebook</a>'\n",
              "            + ' to learn more about interactive tables.';\n",
              "          element.innerHTML = '';\n",
              "          dataTable['output_type'] = 'display_data';\n",
              "          await google.colab.output.renderOutput(dataTable, element);\n",
              "          const docLink = document.createElement('div');\n",
              "          docLink.innerHTML = docLinkHtml;\n",
              "          element.appendChild(docLink);\n",
              "        }\n",
              "      </script>\n",
              "    </div>\n",
              "  </div>\n",
              "  "
            ]
          },
          "metadata": {},
          "execution_count": 50
        }
      ],
      "source": [
        "data_temp.head()"
      ]
    },
    {
      "cell_type": "code",
      "execution_count": null,
      "id": "d73ff509",
      "metadata": {
        "colab": {
          "base_uri": "https://localhost:8080/"
        },
        "id": "d73ff509",
        "outputId": "9b893df7-5599-475f-ffa8-88d058d54e21"
      },
      "outputs": [
        {
          "output_type": "execute_result",
          "data": {
            "text/plain": [
              " 5    19262\n",
              " 4     6202\n",
              " 3     3114\n",
              " 1     1875\n",
              " 2     1544\n",
              "-1      907\n",
              "Name: review_score, dtype: int64"
            ]
          },
          "metadata": {},
          "execution_count": 51
        }
      ],
      "source": [
        "data_temp.review_score.value_counts()"
      ]
    },
    {
      "cell_type": "code",
      "execution_count": null,
      "id": "915d1920",
      "metadata": {
        "id": "915d1920"
      },
      "outputs": [],
      "source": [
        "data_temp_2 = data_temp[data_temp['review_score']!=5]"
      ]
    },
    {
      "cell_type": "code",
      "execution_count": null,
      "id": "8dd3d4c7",
      "metadata": {
        "colab": {
          "base_uri": "https://localhost:8080/"
        },
        "id": "8dd3d4c7",
        "outputId": "0c7cfce1-dab6-427d-acbb-6bcea0a9cdf7"
      },
      "outputs": [
        {
          "output_type": "execute_result",
          "data": {
            "text/plain": [
              " 4    6202\n",
              " 3    3114\n",
              " 1    1875\n",
              " 2    1544\n",
              "-1     907\n",
              "Name: review_score, dtype: int64"
            ]
          },
          "metadata": {},
          "execution_count": 53
        }
      ],
      "source": [
        "data_temp_2.review_score.value_counts()"
      ]
    },
    {
      "cell_type": "code",
      "execution_count": null,
      "id": "c1250d63",
      "metadata": {
        "id": "c1250d63"
      },
      "outputs": [],
      "source": [
        "from imblearn.over_sampling import SMOTE\n",
        "sm = SMOTE(random_state=42)\n",
        "X_res, y_res = sm.fit_resample(X_train_vectors_tfidf, y_train)\n",
        "# print(X_res.shape(), y_res.shape())\n",
        "\n",
        "pd.DataFrame(X_res.todense(), columns=tfidf_vectorizer.get_feature_names())"
      ]
    },
    {
      "cell_type": "code",
      "execution_count": null,
      "id": "78afb572",
      "metadata": {
        "id": "78afb572"
      },
      "outputs": [],
      "source": [
        "lr_tfidf=LogisticRegression(solver = 'liblinear', C=10, penalty = 'l2')\n",
        "lr_tfidf.fit(X_res, y_res)\n",
        "#Predict y value for test dataset\n",
        "y_predict = lr_tfidf.predict(X_test_vectors_tfidf)\n",
        "y_prob = lr_tfidf.predict_proba(X_test_vectors_tfidf)[:,1]\n",
        "print(classification_report(y_test,y_predict))\n",
        "print('Confusion Matrix:',confusion_matrix(y_test, y_predict))"
      ]
    },
    {
      "cell_type": "markdown",
      "id": "0b227842",
      "metadata": {
        "id": "0b227842"
      },
      "source": [
        "### logistic after smote has given 55%"
      ]
    },
    {
      "cell_type": "code",
      "execution_count": null,
      "id": "ce767ece",
      "metadata": {
        "id": "ce767ece"
      },
      "outputs": [],
      "source": [
        "nb_tfidf = MultinomialNB()\n",
        "nb_tfidf.fit(X_res, y_res)\n",
        "#Predict y value for test dataset\n",
        "y_predict = nb_tfidf.predict(X_test_vectors_tfidf)\n",
        "y_prob = nb_tfidf.predict_proba(X_test_vectors_tfidf)[:,1]\n",
        "print(classification_report(y_test,y_predict))\n",
        "print('Confusion Matrix:',confusion_matrix(y_test, y_predict))\n",
        ""
      ]
    },
    {
      "cell_type": "markdown",
      "id": "aaf88cc0",
      "metadata": {
        "id": "aaf88cc0"
      },
      "source": [
        "## naive bayes has given 44%"
      ]
    },
    {
      "cell_type": "code",
      "execution_count": null,
      "id": "56853a9d",
      "metadata": {
        "id": "56853a9d"
      },
      "outputs": [],
      "source": [
        "classifier = RandomForestClassifier(n_estimators=100, max_depth=5, random_state=100)\n",
        "classifier.fit(X_res, y_res)\n",
        "\n",
        "# Predicting the Test set results\n",
        "y_pred = classifier.predict(X_test_vectors_tfidf)\n",
        "\n",
        "y_prob = classifier.predict_proba(X_test_vectors_tfidf)[:,1]\n",
        "print(classification_report(y_test,y_predict))\n",
        "print('Confusion Matrix:',confusion_matrix(y_test, y_predict))\n",
        ""
      ]
    },
    {
      "cell_type": "markdown",
      "id": "89eced72",
      "metadata": {
        "id": "89eced72"
      },
      "source": [
        "# random forest is giving 44%"
      ]
    },
    {
      "cell_type": "code",
      "execution_count": null,
      "id": "11817ad4",
      "metadata": {
        "id": "11817ad4"
      },
      "outputs": [],
      "source": [
        "# from sklearn.model_selection import train_test_split\n",
        "from sklearn.svm import LinearSVC\n",
        "\n",
        "model = LinearSVC()\n",
        "\n",
        "model.fit(X_res, y_res)\n",
        "y_pred = model.predict(X_test_vectors_tfidf)\n",
        "\n",
        "# y_prob = model.predict_proba(X_test_vectors_tfidf)[:,1]\n",
        "print(classification_report(y_test,y_predict))\n",
        "print('Confusion Matrix:',confusion_matrix(y_test, y_predict))\n",
        ""
      ]
    },
    {
      "cell_type": "markdown",
      "id": "156e107f",
      "metadata": {
        "id": "156e107f"
      },
      "source": [
        "## svm is giving 44%"
      ]
    },
    {
      "cell_type": "markdown",
      "id": "b1545989",
      "metadata": {
        "id": "b1545989"
      },
      "source": [
        "# Text preprocessing :"
      ]
    },
    {
      "cell_type": "code",
      "execution_count": null,
      "id": "8db3a528",
      "metadata": {
        "id": "8db3a528"
      },
      "outputs": [],
      "source": [
        "data_temp.head()"
      ]
    },
    {
      "cell_type": "code",
      "execution_count": null,
      "id": "fd53cb04",
      "metadata": {
        "id": "fd53cb04"
      },
      "outputs": [],
      "source": [
        "data_temp.info()"
      ]
    },
    {
      "cell_type": "code",
      "execution_count": null,
      "id": "5cd10a97",
      "metadata": {
        "id": "5cd10a97"
      },
      "outputs": [],
      "source": [
        "import string\n",
        "string.punctuation"
      ]
    },
    {
      "cell_type": "code",
      "execution_count": null,
      "id": "77f1c539",
      "metadata": {
        "id": "77f1c539"
      },
      "outputs": [],
      "source": [
        "def remove_punctuation(text):\n",
        "\n",
        "    if text not in string.punctuation:\n",
        "#         punctutation_less.append(text)\n",
        "        return text\n",
        "\n",
        ""
      ]
    },
    {
      "cell_type": "code",
      "execution_count": null,
      "id": "993bab48",
      "metadata": {
        "id": "993bab48"
      },
      "outputs": [],
      "source": [
        "# !pip install -U spacy"
      ]
    },
    {
      "cell_type": "code",
      "execution_count": null,
      "id": "4b86a368",
      "metadata": {
        "id": "4b86a368"
      },
      "outputs": [],
      "source": [
        "# ! python -m spacy download en"
      ]
    },
    {
      "cell_type": "code",
      "execution_count": null,
      "id": "3727698d",
      "metadata": {
        "id": "3727698d"
      },
      "outputs": [],
      "source": [
        "import spacy\n",
        "\n",
        "\n",
        "\n",
        "sp = spacy.load('en_core_web_sm')\n",
        "sentence = sp(u'Manchester United is looking to sign a forward for $90 million')\n",
        "\n",
        "\n",
        "# print(sentence)\n",
        "for word in sentence:\n",
        "    print(word.text)"
      ]
    },
    {
      "cell_type": "code",
      "execution_count": null,
      "id": "267a245b",
      "metadata": {
        "id": "267a245b"
      },
      "outputs": [],
      "source": [
        "def tokenisation(text):\n",
        "    sentence = sp(text)\n",
        "    tokenised_list = []\n",
        "    for word in sentence:\n",
        "        tokenised_list.append(word)\n",
        "\n",
        "    return tokenised_list\n",
        "\n",
        "\n",
        ""
      ]
    },
    {
      "cell_type": "code",
      "execution_count": null,
      "id": "22da574a",
      "metadata": {
        "id": "22da574a"
      },
      "outputs": [],
      "source": [
        "def rem_pun(txt):\n",
        "    txt_nopunt = \"\".join([c for c in txt if c not in string.punctuation])\n",
        "    return txt_nopunt\n",
        ""
      ]
    },
    {
      "cell_type": "code",
      "execution_count": null,
      "id": "7cc84c8e",
      "metadata": {
        "id": "7cc84c8e"
      },
      "outputs": [],
      "source": [
        "import re\n",
        "def text_tokenizer(txt):\n",
        "    tokens = re.split('\\W+', txt)\n",
        "    return tokens"
      ]
    },
    {
      "cell_type": "code",
      "execution_count": null,
      "id": "7568e1dd",
      "metadata": {
        "id": "7568e1dd"
      },
      "outputs": [],
      "source": [
        "data_temp['no_punc'] =  data_temp['text'].apply(lambda x: rem_pun(x))"
      ]
    },
    {
      "cell_type": "code",
      "execution_count": null,
      "id": "d1ac574f",
      "metadata": {
        "id": "d1ac574f"
      },
      "outputs": [],
      "source": [
        "data_temp['tokens_reg'] = data_temp['no_punc'].apply(lambda x: text_tokenizer(x.lower()))"
      ]
    },
    {
      "cell_type": "code",
      "execution_count": null,
      "id": "985d2cf4",
      "metadata": {
        "id": "985d2cf4"
      },
      "outputs": [],
      "source": [
        "data_temp['tokens_reg'].head()"
      ]
    },
    {
      "cell_type": "code",
      "execution_count": null,
      "id": "5afb8fcf",
      "metadata": {
        "id": "5afb8fcf"
      },
      "outputs": [],
      "source": [
        "data_temp['no_punc'].head()"
      ]
    },
    {
      "cell_type": "code",
      "execution_count": null,
      "id": "7fd0d877",
      "metadata": {
        "id": "7fd0d877"
      },
      "outputs": [],
      "source": [
        "type(data_temp['no_punc'][0])\n",
        "\n",
        "\n",
        "\n",
        "data_temp['no_punc'][0]"
      ]
    },
    {
      "cell_type": "code",
      "execution_count": null,
      "id": "55e4b4d4",
      "metadata": {
        "id": "55e4b4d4"
      },
      "outputs": [],
      "source": [
        "print(tokenisation(data_temp['no_punc'][0]))"
      ]
    },
    {
      "cell_type": "code",
      "execution_count": null,
      "id": "0b676b05",
      "metadata": {
        "id": "0b676b05"
      },
      "outputs": [],
      "source": [
        "data_temp.head()"
      ]
    },
    {
      "cell_type": "code",
      "execution_count": null,
      "id": "17c737f9",
      "metadata": {
        "id": "17c737f9"
      },
      "outputs": [],
      "source": [
        " data_temp['tokens_reg'][0]"
      ]
    },
    {
      "cell_type": "markdown",
      "id": "2bb39ae0",
      "metadata": {
        "id": "2bb39ae0"
      },
      "source": [
        "# removing stopwords"
      ]
    },
    {
      "cell_type": "code",
      "execution_count": null,
      "id": "e7d5a1f4",
      "metadata": {
        "id": "e7d5a1f4"
      },
      "outputs": [],
      "source": [
        "import nltk\n",
        "stopwords = nltk.corpus.stopwords.words('English')"
      ]
    },
    {
      "cell_type": "code",
      "execution_count": null,
      "id": "71cfa23f",
      "metadata": {
        "id": "71cfa23f"
      },
      "outputs": [],
      "source": [
        "stopwords[:10]"
      ]
    },
    {
      "cell_type": "code",
      "execution_count": null,
      "id": "effd8a0a",
      "metadata": {
        "id": "effd8a0a"
      },
      "outputs": [],
      "source": [
        "def remove_stop_words(tokens):\n",
        "    txt_clean = [word for word in tokens if word not in stopwords]\n",
        "    return txt_clean"
      ]
    },
    {
      "cell_type": "code",
      "execution_count": null,
      "id": "dcc58724",
      "metadata": {
        "id": "dcc58724"
      },
      "outputs": [],
      "source": [
        "data_temp['clean_text'] = data_temp['tokens_reg'].apply(lambda x : remove_stop_words(x))"
      ]
    },
    {
      "cell_type": "code",
      "execution_count": null,
      "id": "a86a4380",
      "metadata": {
        "id": "a86a4380"
      },
      "outputs": [],
      "source": [
        "data_temp['clean_text'].head()"
      ]
    },
    {
      "cell_type": "markdown",
      "id": "177dad92",
      "metadata": {
        "id": "177dad92"
      },
      "source": [
        "# stemming"
      ]
    },
    {
      "cell_type": "code",
      "execution_count": null,
      "id": "f17198aa",
      "metadata": {
        "id": "f17198aa"
      },
      "outputs": [],
      "source": [
        "def stemming(tokens):\n",
        "    text = [word for word in tokens]\n",
        "    return text"
      ]
    },
    {
      "cell_type": "code",
      "execution_count": null,
      "id": "a3995666",
      "metadata": {
        "id": "a3995666"
      },
      "outputs": [],
      "source": [
        "data_temp['stemmed_words'] = data_temp['clean_text'].apply(lambda x : stemming(x))"
      ]
    },
    {
      "cell_type": "code",
      "execution_count": null,
      "id": "76021ef2",
      "metadata": {
        "id": "76021ef2"
      },
      "outputs": [],
      "source": [
        "data_temp['stemmed_words'].head()"
      ]
    },
    {
      "cell_type": "code",
      "execution_count": null,
      "id": "4a41e9ba",
      "metadata": {
        "id": "4a41e9ba"
      },
      "outputs": [],
      "source": [
        "data_temp.head()"
      ]
    },
    {
      "cell_type": "markdown",
      "id": "66ad9e10",
      "metadata": {
        "id": "66ad9e10"
      },
      "source": [
        "# lemmatization"
      ]
    },
    {
      "cell_type": "code",
      "execution_count": null,
      "id": "34e79dc4",
      "metadata": {
        "id": "34e79dc4"
      },
      "outputs": [],
      "source": [
        "nltk.download('wordnet')"
      ]
    },
    {
      "cell_type": "code",
      "execution_count": null,
      "id": "bf53aa05",
      "metadata": {
        "id": "bf53aa05"
      },
      "outputs": [],
      "source": [
        "wn = nltk.WordNetLemmatizer()\n",
        "ps = nltk.PorterStemmer()"
      ]
    },
    {
      "cell_type": "code",
      "execution_count": null,
      "id": "e038a32d",
      "metadata": {
        "id": "e038a32d"
      },
      "outputs": [],
      "source": [
        "def lemmatization(tokens):\n",
        "    text = [wn.lemmatize(word) for word in tokens]\n",
        "    return text"
      ]
    },
    {
      "cell_type": "code",
      "execution_count": null,
      "id": "8a1d58c4",
      "metadata": {
        "id": "8a1d58c4"
      },
      "outputs": [],
      "source": [
        "data_temp['lemmatised'] = data_temp['clean_text'].apply(lambda x : lemmatization(x))"
      ]
    },
    {
      "cell_type": "code",
      "execution_count": null,
      "id": "42aeda7b",
      "metadata": {
        "id": "42aeda7b"
      },
      "outputs": [],
      "source": [
        "data_temp['lemmatised'].head()"
      ]
    },
    {
      "cell_type": "code",
      "execution_count": null,
      "id": "5642993b",
      "metadata": {
        "id": "5642993b"
      },
      "outputs": [],
      "source": [
        "data_temp.head()"
      ]
    },
    {
      "cell_type": "code",
      "execution_count": null,
      "id": "2caa0aff",
      "metadata": {
        "id": "2caa0aff"
      },
      "outputs": [],
      "source": [
        "data_vec = pd.DataFrame(columns=['text','clean'])\n",
        "\n",
        "print(data_vec.head())"
      ]
    },
    {
      "cell_type": "code",
      "execution_count": null,
      "id": "ddd9580c",
      "metadata": {
        "id": "ddd9580c"
      },
      "outputs": [],
      "source": [
        "def clean_text(txt):\n",
        "    txt = \"\".join([c for c in txt if c not in string.punctuation])\n",
        "    tokens = re.split('\\W+', txt)\n",
        "    txt = \" \".join([ps.stem(word) for word in tokens if word not in stopwords])\n",
        "    return txt\n",
        "\n",
        "data_temp['clean_final'] = data_temp['text'].apply(lambda x: clean_text(x))"
      ]
    },
    {
      "cell_type": "code",
      "execution_count": null,
      "id": "5a33b38b",
      "metadata": {
        "id": "5a33b38b"
      },
      "outputs": [],
      "source": [
        "data_vec['text'] = data_temp['text']\n",
        "data_vec['clean'] = data_temp['clean_final']\n",
        "data_vec['review_score'] = data_temp['review_score']\n",
        "\n",
        "data_vec.head()"
      ]
    },
    {
      "cell_type": "markdown",
      "id": "9e0dc8ed",
      "metadata": {
        "id": "9e0dc8ed"
      },
      "source": [
        "# vectorising"
      ]
    },
    {
      "cell_type": "code",
      "execution_count": null,
      "id": "0fd3fee2",
      "metadata": {
        "id": "0fd3fee2"
      },
      "outputs": [],
      "source": [
        "cv1 = CountVectorizer(ngram_range = (1,2))\n",
        "\n",
        "X = cv1.fit_transform(data_vec['clean'])\n",
        "print(X.shape)"
      ]
    },
    {
      "cell_type": "code",
      "execution_count": null,
      "id": "6b14b1b2",
      "metadata": {
        "id": "6b14b1b2"
      },
      "outputs": [],
      "source": [
        "data_sample = data_vec[:10]\n",
        "cv2 = CountVectorizer(ngram_range = (1,2))\n",
        "\n",
        "X = cv2.fit_transform(data_sample['clean'])\n",
        "print(X.shape)"
      ]
    },
    {
      "cell_type": "code",
      "execution_count": null,
      "id": "0380e1f2",
      "metadata": {
        "id": "0380e1f2"
      },
      "outputs": [],
      "source": [
        "df = pd.DataFrame(X.toarray(), columns= cv2.get_feature_names())\n",
        "df.head()"
      ]
    },
    {
      "cell_type": "markdown",
      "id": "0a2b58db",
      "metadata": {
        "id": "0a2b58db"
      },
      "source": [
        "# tfidf"
      ]
    },
    {
      "cell_type": "code",
      "execution_count": null,
      "id": "fe8cb5ad",
      "metadata": {
        "id": "fe8cb5ad"
      },
      "outputs": [],
      "source": [
        "data_vec.head()"
      ]
    },
    {
      "cell_type": "code",
      "execution_count": null,
      "id": "de979cfa",
      "metadata": {
        "id": "de979cfa"
      },
      "outputs": [],
      "source": [
        "data_vec['review_score'].value_counts()"
      ]
    },
    {
      "cell_type": "code",
      "execution_count": null,
      "id": "ef9f3b1a",
      "metadata": {
        "id": "ef9f3b1a"
      },
      "outputs": [],
      "source": [
        "from sklearn.feature_extraction.text import TfidfTransformer\n",
        "from sklearn.feature_extraction.text import TfidfVectorizer\n",
        "# tfidfconverter = TfidfTransformer()\n",
        "\n",
        "# X = tfidfconverter.fit_transform(data_temp.iloc[:,:-1])\n",
        "# y = data_temp['review_score']\n",
        "\n",
        "\n",
        "\n",
        "X_train, X_test, y_train, y_test = train_test_split(data_vec[\"clean\"],data_vec[\"review_score\"],test_size=0.2,shuffle=True)\n",
        "\n",
        "tfidf_vectorizer = TfidfVectorizer(use_idf=True)\n",
        "X_train_vectors_tfidf = tfidf_vectorizer.fit_transform(X_train)\n",
        "X_test_vectors_tfidf = tfidf_vectorizer.transform(X_test)\n",
        "\n",
        "print(X_train.shape,X_train_vectors_tfidf.shape, y_train.shape)\n",
        "\n"
      ]
    },
    {
      "cell_type": "code",
      "execution_count": null,
      "id": "690d3d12",
      "metadata": {
        "id": "690d3d12"
      },
      "outputs": [],
      "source": [
        "from sklearn.model_selection import train_test_split\n",
        "from sklearn.linear_model import LogisticRegression\n",
        "from sklearn.naive_bayes import MultinomialNB\n",
        "from sklearn.metrics import classification_report, f1_score, accuracy_score, confusion_matrix\n",
        "from sklearn.metrics import roc_curve, auc, roc_auc_score\n"
      ]
    },
    {
      "cell_type": "code",
      "execution_count": null,
      "id": "59ae0fb0",
      "metadata": {
        "id": "59ae0fb0"
      },
      "outputs": [],
      "source": [
        "from imblearn.over_sampling import SMOTE\n",
        "sm = SMOTE(random_state=42)\n",
        "X_res_1, y_res_1 = sm.fit_resample(X_train_vectors_tfidf, y_train)\n",
        "print(X_res_1.shape, y_res_1.shape)\n",
        "\n",
        "pd.DataFrame(X_res_1.todense(), columns=tfidf_vectorizer.get_feature_names())"
      ]
    },
    {
      "cell_type": "markdown",
      "id": "7de8bd89",
      "metadata": {
        "id": "7de8bd89"
      },
      "source": [
        "# training and testing models"
      ]
    },
    {
      "cell_type": "code",
      "execution_count": null,
      "id": "8bd0dcc8",
      "metadata": {
        "id": "8bd0dcc8"
      },
      "outputs": [],
      "source": [
        "lr_tfidf=LogisticRegression(solver = 'liblinear', C=10, penalty = 'l2')\n",
        "lr_tfidf.fit(X_res_1, y_res_1)\n",
        "#Predict y value for test dataset\n",
        "y_predict = lr_tfidf.predict(X_test_vectors_tfidf)\n",
        "y_prob = lr_tfidf.predict_proba(X_test_vectors_tfidf)[:,1]\n",
        "print(classification_report(y_test,y_predict))\n",
        "print('Confusion Matrix:',confusion_matrix(y_test, y_predict))"
      ]
    },
    {
      "cell_type": "markdown",
      "id": "23cdce31",
      "metadata": {
        "id": "23cdce31"
      },
      "source": [
        "### logistic is giving 51% after pre-processing and balancing"
      ]
    },
    {
      "cell_type": "code",
      "execution_count": null,
      "id": "e83f355d",
      "metadata": {
        "id": "e83f355d"
      },
      "outputs": [],
      "source": [
        "nb_tfidf = MultinomialNB()\n",
        "nb_tfidf.fit(X_res_1, y_res_1)\n",
        "#Predict y value for test dataset\n",
        "y_predict = nb_tfidf.predict(X_test_vectors_tfidf)\n",
        "y_prob = nb_tfidf.predict_proba(X_test_vectors_tfidf)[:,1]\n",
        "print(classification_report(y_test,y_predict))\n",
        "print('Confusion Matrix:',confusion_matrix(y_test, y_predict))\n",
        ""
      ]
    },
    {
      "cell_type": "markdown",
      "id": "a47f1617",
      "metadata": {
        "id": "a47f1617"
      },
      "source": [
        "### multinomial bayes gives 41% after pre-processing and balancing"
      ]
    },
    {
      "cell_type": "code",
      "execution_count": null,
      "id": "24318ed7",
      "metadata": {
        "id": "24318ed7"
      },
      "outputs": [],
      "source": [
        "classifier = RandomForestClassifier(n_estimators=100, max_depth=5, random_state=100)\n",
        "classifier.fit(X_res_1, y_res_1)\n",
        "\n",
        "# Predicting the Test set results\n",
        "y_pred = classifier.predict(X_test_vectors_tfidf)\n",
        "\n",
        "y_prob = classifier.predict_proba(X_test_vectors_tfidf)[:,1]\n",
        "print(classification_report(y_test,y_predict))\n",
        "print('Confusion Matrix:',confusion_matrix(y_test, y_predict))\n",
        ""
      ]
    },
    {
      "cell_type": "markdown",
      "id": "09522c93",
      "metadata": {
        "id": "09522c93"
      },
      "source": [
        "### random forest gives after 41% pre-processing"
      ]
    },
    {
      "cell_type": "markdown",
      "id": "d47a11ac",
      "metadata": {
        "id": "d47a11ac"
      },
      "source": [
        "# Predicting the second target variable"
      ]
    },
    {
      "cell_type": "code",
      "execution_count": null,
      "id": "86efc970",
      "metadata": {
        "id": "86efc970"
      },
      "outputs": [],
      "source": [
        "data.head()"
      ]
    },
    {
      "cell_type": "code",
      "execution_count": null,
      "id": "b57cd297",
      "metadata": {
        "id": "b57cd297"
      },
      "outputs": [],
      "source": [
        "data_vec['target_2'] = data['product_category']"
      ]
    },
    {
      "cell_type": "code",
      "execution_count": null,
      "id": "ab61e407",
      "metadata": {
        "id": "ab61e407"
      },
      "outputs": [],
      "source": [
        "data_vec['target_2'].value_counts()"
      ]
    },
    {
      "cell_type": "code",
      "execution_count": null,
      "id": "d300f65c",
      "metadata": {
        "id": "d300f65c"
      },
      "outputs": [],
      "source": [
        "data_vec['target_2'].isnull().sum()"
      ]
    },
    {
      "cell_type": "markdown",
      "id": "48b1429b",
      "metadata": {
        "id": "48b1429b"
      },
      "source": [
        "# creating validation data :"
      ]
    },
    {
      "cell_type": "code",
      "execution_count": null,
      "id": "4c64748b",
      "metadata": {
        "id": "4c64748b"
      },
      "outputs": [],
      "source": [
        "validation_data = data_vec[data_vec['target_2'].isnull()== True]"
      ]
    },
    {
      "cell_type": "code",
      "execution_count": null,
      "id": "1361dad1",
      "metadata": {
        "id": "1361dad1"
      },
      "outputs": [],
      "source": [
        "validation_data.head()"
      ]
    },
    {
      "cell_type": "markdown",
      "id": "fd0c5944",
      "metadata": {
        "id": "fd0c5944"
      },
      "source": [
        "# creating train and test"
      ]
    },
    {
      "cell_type": "code",
      "execution_count": null,
      "id": "95d4c9ec",
      "metadata": {
        "id": "95d4c9ec"
      },
      "outputs": [],
      "source": [
        "data_target = data_vec[data_vec['target_2'].isnull()!= True]"
      ]
    },
    {
      "cell_type": "code",
      "execution_count": null,
      "id": "b3da2458",
      "metadata": {
        "id": "b3da2458"
      },
      "outputs": [],
      "source": [
        "data_target['target_2'].value_counts()"
      ]
    },
    {
      "cell_type": "code",
      "execution_count": null,
      "id": "235297f3",
      "metadata": {
        "id": "235297f3"
      },
      "outputs": [],
      "source": [
        "data_target['target_2'] = data_target['target_2'].replace(['video_games', 'musical_instruments'], ['0','1'])\n"
      ]
    },
    {
      "cell_type": "code",
      "execution_count": null,
      "id": "e6c86c21",
      "metadata": {
        "id": "e6c86c21"
      },
      "outputs": [],
      "source": [
        "data_target['target_2'].unique()"
      ]
    },
    {
      "cell_type": "code",
      "execution_count": null,
      "id": "a96a2d5e",
      "metadata": {
        "id": "a96a2d5e"
      },
      "outputs": [],
      "source": [
        "data_target['target_2'] = data_target['target_2'].astype(int)"
      ]
    },
    {
      "cell_type": "code",
      "execution_count": null,
      "id": "0664aaac",
      "metadata": {
        "id": "0664aaac"
      },
      "outputs": [],
      "source": [
        "data_target.info()"
      ]
    },
    {
      "cell_type": "markdown",
      "id": "e6a02853",
      "metadata": {
        "id": "e6a02853"
      },
      "source": [
        "# train and test split"
      ]
    },
    {
      "cell_type": "code",
      "execution_count": null,
      "id": "92f9cce6",
      "metadata": {
        "id": "92f9cce6"
      },
      "outputs": [],
      "source": [
        "from sklearn.feature_extraction.text import TfidfTransformer\n",
        "from sklearn.feature_extraction.text import TfidfVectorizer\n",
        "# tfidfconverter = TfidfTransformer()\n",
        "\n",
        "# X = tfidfconverter.fit_transform(data_temp.iloc[:,:-1])\n",
        "# y = data_temp['review_score']\n",
        "\n",
        "\n",
        "\n",
        "X_train, X_test, y_train, y_test = train_test_split(data_target[\"clean\"],data_target[\"target_2\"],test_size=0.2,shuffle=True)\n",
        "\n",
        "tfidf_vectorizer = TfidfVectorizer(use_idf=True)\n",
        "X_train_vectors_tfidf = tfidf_vectorizer.fit_transform(X_train)\n",
        "X_test_vectors_tfidf = tfidf_vectorizer.transform(X_test)\n",
        "\n",
        "print(X_test.head())\n",
        "print('')\n",
        "print(X_train.head())\n",
        "\n",
        "print(X_train_vectors_tfidf.shape)\n",
        "print(X_test_vectors_tfidf.shape)\n",
        "\n"
      ]
    },
    {
      "cell_type": "markdown",
      "id": "70432055",
      "metadata": {
        "id": "70432055"
      },
      "source": [
        "# smote to balance the class"
      ]
    },
    {
      "cell_type": "code",
      "execution_count": null,
      "id": "2e3580a9",
      "metadata": {
        "id": "2e3580a9"
      },
      "outputs": [],
      "source": [
        "from imblearn.over_sampling import SMOTE\n",
        "sm = SMOTE(random_state=100)\n",
        "X_res_2, y_res_2 = sm.fit_resample(X_train_vectors_tfidf, y_train)\n",
        "# print(X_res.shape(), y_res.shape())\n",
        "\n",
        "# pd.DataFrame(X_res.todense(), columns=tfidf_vectorizer.get_feature_names())"
      ]
    },
    {
      "cell_type": "markdown",
      "id": "49c5d75a",
      "metadata": {
        "id": "49c5d75a"
      },
      "source": [
        "# model evaluation"
      ]
    },
    {
      "cell_type": "code",
      "execution_count": null,
      "id": "a32308df",
      "metadata": {
        "id": "a32308df"
      },
      "outputs": [],
      "source": [
        "lr_tfidf=LogisticRegression(solver = 'liblinear', C=10, penalty = 'l2')\n",
        "lr_tfidf.fit(X_res_2, y_res_2)\n",
        "#Predict y value for test dataset\n",
        "y_predict = lr_tfidf.predict(X_test_vectors_tfidf)\n",
        "y_prob = lr_tfidf.predict_proba(X_test_vectors_tfidf)[:,1]\n",
        "print(classification_report(y_test,y_predict))\n",
        "print('Confusion Matrix:',confusion_matrix(y_test, y_predict))"
      ]
    },
    {
      "cell_type": "markdown",
      "id": "10f45d22",
      "metadata": {
        "id": "10f45d22"
      },
      "source": [
        "### logistic regression is giving 94%"
      ]
    },
    {
      "cell_type": "code",
      "execution_count": null,
      "id": "f6b27910",
      "metadata": {
        "id": "f6b27910"
      },
      "outputs": [],
      "source": [
        "nb_tfidf = MultinomialNB()\n",
        "nb_tfidf.fit(X_res_2, y_res_2)\n",
        "#Predict y value for test dataset\n",
        "y_predict = nb_tfidf.predict(X_test_vectors_tfidf)\n",
        "y_prob = nb_tfidf.predict_proba(X_test_vectors_tfidf)[:,1]\n",
        "print(classification_report(y_test,y_predict))\n",
        "print('Confusion Matrix:',confusion_matrix(y_test, y_predict))\n",
        ""
      ]
    },
    {
      "cell_type": "markdown",
      "id": "a302b806",
      "metadata": {
        "id": "a302b806"
      },
      "source": [
        "### multinomial bayes is also giving 94%"
      ]
    },
    {
      "cell_type": "code",
      "execution_count": null,
      "id": "685708ac",
      "metadata": {
        "id": "685708ac"
      },
      "outputs": [],
      "source": [
        "classifier = RandomForestClassifier(n_estimators=100, max_depth=5, random_state=100)\n",
        "classifier.fit(X_res_2, y_res_2)\n",
        "\n",
        "# Predicting the Test set results\n",
        "y_pred = classifier.predict(X_test_vectors_tfidf)\n",
        "\n",
        "y_prob = classifier.predict_proba(X_test_vectors_tfidf)[:,1]\n",
        "print(classification_report(y_test,y_predict))\n",
        "print('Confusion Matrix:',confusion_matrix(y_test, y_predict))\n",
        ""
      ]
    },
    {
      "cell_type": "markdown",
      "id": "d7890ca9",
      "metadata": {
        "id": "d7890ca9"
      },
      "source": [
        "# predicting on the validation set"
      ]
    },
    {
      "cell_type": "code",
      "execution_count": null,
      "id": "0b8b72de",
      "metadata": {
        "id": "0b8b72de"
      },
      "outputs": [],
      "source": [
        "validation_data.head()"
      ]
    },
    {
      "cell_type": "code",
      "execution_count": null,
      "id": "1b7f97f3",
      "metadata": {
        "id": "1b7f97f3"
      },
      "outputs": [],
      "source": [
        "# tfidf_vectorizer = TfidfVectorizer(use_idf=True)\n",
        "# X_train_vectors_tfidf = tfidf_vectorizer.fit_transform(X_train)\n",
        "X_test_vectors_tfidf = tfidf_vectorizer.transform(validation_data['clean'])\n"
      ]
    },
    {
      "cell_type": "markdown",
      "id": "ae8d8c7b",
      "metadata": {
        "id": "ae8d8c7b"
      },
      "source": [
        "### using the model that has given the best accuracy"
      ]
    },
    {
      "cell_type": "code",
      "execution_count": null,
      "id": "cee84895",
      "metadata": {
        "id": "cee84895"
      },
      "outputs": [],
      "source": [
        "lr_tfidf=LogisticRegression(solver = 'liblinear', C=10, penalty = 'l2')\n",
        "lr_tfidf.fit(X_res_2, y_res_2)\n",
        "#Predict y value for test dataset\n",
        "y_predict = lr_tfidf.predict(X_test_vectors_tfidf)\n",
        "y_prob = lr_tfidf.predict_proba(X_test_vectors_tfidf)[:,1]\n"
      ]
    },
    {
      "cell_type": "code",
      "execution_count": null,
      "id": "ab58c3ea",
      "metadata": {
        "id": "ab58c3ea"
      },
      "outputs": [],
      "source": [
        "print(y_predict)"
      ]
    },
    {
      "cell_type": "code",
      "execution_count": null,
      "id": "48b093f1",
      "metadata": {
        "id": "48b093f1"
      },
      "outputs": [],
      "source": [
        "validation_data['predicted_output'] = y_predict"
      ]
    },
    {
      "cell_type": "code",
      "execution_count": null,
      "id": "f7acb718",
      "metadata": {
        "id": "f7acb718"
      },
      "outputs": [],
      "source": [
        "validation_data.head()"
      ]
    },
    {
      "cell_type": "code",
      "execution_count": null,
      "id": "ea533977",
      "metadata": {
        "id": "ea533977"
      },
      "outputs": [],
      "source": []
    }
  ],
  "metadata": {
    "kernelspec": {
      "display_name": "Python 3",
      "language": "python",
      "name": "python3"
    },
    "language_info": {
      "codemirror_mode": {
        "name": "ipython",
        "version": 3
      },
      "file_extension": ".py",
      "mimetype": "text/x-python",
      "name": "python",
      "nbconvert_exporter": "python",
      "pygments_lexer": "ipython3",
      "version": "3.8.8"
    },
    "colab": {
      "provenance": [],
      "toc_visible": true,
      "include_colab_link": true
    }
  },
  "nbformat": 4,
  "nbformat_minor": 5
}